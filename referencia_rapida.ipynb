{
 "cells": [
  {
   "cell_type": "markdown",
   "metadata": {},
   "source": [
    "# O ambiente *Jupyter Notebook*\n",
    "\n",
    "\n",
    "* **Células** do tipo *Code* executam código e células do tipo *Markdown* permitem escrever texto;\n",
    "* Comandos:\n",
    "\n",
    "\n",
    "\n",
    "|Comando |  Descrição |\n",
    "|-|-|\n",
    "| `Enter`        | Entrar no *modo de Edição* (bordas verdes) |\n",
    "| `Esc`          | Entrar no *modo de Comando* (bordas azuis) |\n",
    "| `Ctrl + Enter` | Executar célula selecionada                |\n",
    "| | |\n",
    "| **No Modo de Comando**| |\n",
    "| `a`            | Adicionar célula acima    |\n",
    "| `b`            | Adicionar célula abaixo    | \n",
    "| `x`            | Deletar célula             |\n",
    "| `h`            | Mostrar outros atalhos     |"
   ]
  },
  {
   "cell_type": "markdown",
   "metadata": {},
   "source": [
    "# Python"
   ]
  },
  {
   "cell_type": "markdown",
   "metadata": {},
   "source": [
    "## Operadores\n",
    "| Operador | Descrição |\n",
    "| -------- | --------- |\n",
    "| **Operadores aritméticos** | |\n",
    "|     `+`  |    Soma       |\n",
    "|     `-`  |    Subtração    |\n",
    "|     `*`  |    Multiplicação       |\n",
    "|     `/`  |    Divisão       |\n",
    "|    `//`     |    Divisão inteira    |\n",
    "|      `%` |    Módulo       |\n",
    "|    `**`  |    Exponenciação       |\n",
    "| | |\n",
    "| **Operadores de comparação** | |\n",
    "|    `==`  | True se valores de dois operandos são iguais |\n",
    "|    `!=`  | True se valores de dois operandos são diferentes |\n",
    "|    `<`  | True se valor do operando à esquerda é menor que o da direita |\n",
    "|    `<=`  | True se valor do operando à esquerda é menor ou igual ao da direita|\n",
    "|    `>`  | True se valor do operando à esquerda é maior que o da direita |\n",
    "|    `>=`  | True se valor do operando à esquerda é maior ou igual ao da direita |\n",
    "| | |\n",
    "| **Operador de atribuição** | |\n",
    "|    `=`  | Atribuição |\n",
    "| | |\n",
    "| **Operadores lógicos**| |\n",
    "|    `and`  | Operador lógico \"e\" |\n",
    "|    `or`  | Operador lógico \"ou\" |\n",
    "|    `not`  |Operador lógico \"não\" |\n",
    "| | |\n",
    "| **Outros operadores** | |\n",
    "|    `is`  | testa identidade de objetos |\n",
    "|    `in`  | testa se elemento está contido em outro |"
   ]
  },
  {
   "cell_type": "markdown",
   "metadata": {},
   "source": [
    "## Funções\n",
    "| Função   | Descrição |\n",
    "| -------- | --------- |\n",
    "|    print()      |     Imprime mensagem no console      |\n",
    "|    list()      |    Constrói uma lista       |\n",
    "|    dict()     |     Constrói um dicionário      |\n",
    "|    range()     |    Gera uma lista de números       |\n",
    "|    input()     |   Recebe um valor de entrada do usuário |\n",
    "| open() | Abre ou cria um arquivo |\n",
    "| | |\n",
    "| **Funções aplicáveis a listas** | |\n",
    "|  len() | Retorna o tamanho (número de elementos) de uma lista |\n",
    "| reversed() | Retorna uma cópia da lista com os elementos em ordem inversa |\n",
    "| max() | Retorna o maior valor em uma lista |\n",
    "| min() | Retorna o menor valor em uma lista |\n",
    "| | |\n",
    "| **Métodos de strings**| |\n",
    "| .upper() | Transforma os caracteres em uma string em caixa-alto |\n",
    "| .lower() | Transforma os caracteres em uma string em caixa-baixo |\n",
    "| | |\n",
    "| **Métodos de dict** | |\n",
    "|    .keys()    | Retorna uma lista com as chaves do dicionário |\n",
    "|    .values()  | Retorna uma lista com os valores no dicionário |\n",
    "|    .items()   | Retorna uma lista de tuplas (chave,valor)\n",
    "| | |\n",
    "| **Métodos de arquivos** | |\n",
    "| .write() | Escreve uma mensagem no arquivo |\n",
    "| .readLines() | Lê e retorna o conteúdo de um arquivo |\n",
    "| .close() | Fecha um arquivo |\n",
    "| | |\n",
    "| **Funções no módulo OS**| |\n",
    "| os.listdir() | Lista arquivos e diretórios a partir de um caminho fornecido como entrada|\n",
    "| os.path.isdir() | Retorna True se o caminho fornecido é um diretório. False caso contrário |\n",
    "| os.path.isfile() | Retorna True se o caminho fornecido é um arquivo. False caso contrário |\n"
   ]
  }
 ],
 "metadata": {
  "kernelspec": {
   "display_name": "Python 3",
   "language": "python",
   "name": "python3"
  },
  "language_info": {
   "codemirror_mode": {
    "name": "ipython",
    "version": 3
   },
   "file_extension": ".py",
   "mimetype": "text/x-python",
   "name": "python",
   "nbconvert_exporter": "python",
   "pygments_lexer": "ipython3",
   "version": "3.6.1"
  }
 },
 "nbformat": 4,
 "nbformat_minor": 2
}
