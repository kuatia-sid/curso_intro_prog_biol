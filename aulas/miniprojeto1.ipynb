{
 "cells": [
  {
   "cell_type": "markdown",
   "metadata": {},
   "source": [
    "## <center>Introdução à Lógica de Programação</center>\n",
    "###  <center>Um curso prático para estudantes das Ciências da Vida</center>\n",
    "---\n",
    "## <center>Miniprojeto 1. A Calculadora Bacteriana</center>\n",
    "##### <center>Instrutor: <a href=\"https://pedrosiracusa.github.io\" target=\"_blank\">Pedro C. de Siracusa</a></center>"
   ]
  },
  {
   "cell_type": "markdown",
   "metadata": {},
   "source": [
    "#### Enunciado\n",
    "Você trabalha no laboratório de Microbiologia e está cultivando uma colônia de bactérias para seu experimento em um meio rico em nutrientes. Você sabe que o tempo médio que estas bactérias levam para se reproduzir por fissão binária - ou *tempo de geração* - é de 20 minutos. Como codificar um **modelo** para estimar o tamanho desta população no meio como resultado do tempo decorrido desde sua colonização? Por simplicidade, vamos considerar aqui que o crescimento é **exponencial** durante todo o processo."
   ]
  },
  {
   "cell_type": "markdown",
   "metadata": {},
   "source": [
    "<img src=\"img/bacteria.jpg\" >"
   ]
  },
  {
   "cell_type": "markdown",
   "metadata": {},
   "source": [
    "#### Desenvolvimento\n",
    "\n",
    "Esta calculadora bacteriana funcionará com base em um modelo matemático bastante simples criado para o estudo de crescimento em populações biológicas: o **modelo de crescimento exponencial**\n",
    "\n",
    "$$ N(t)=N_i\\cdot 2^{ \\frac{t}{g}}$$\n",
    "\n",
    "em que:\n",
    "* $N(t)$ é o tamanho populacional no tempo $t$;\n",
    "* $N_i$ é o tamanho da população colonizadora;\n",
    "* $t$ é o tempo decorrido desde a colonização;\n",
    "* $g$ é o tempo de geração da bactéria."
   ]
  },
  {
   "cell_type": "markdown",
   "metadata": {},
   "source": [
    "---"
   ]
  },
  {
   "cell_type": "markdown",
   "metadata": {},
   "source": [
    "##### Etapa 1"
   ]
  },
  {
   "cell_type": "markdown",
   "metadata": {},
   "source": [
    "Precisamos representar este modelo em código.\n",
    "Crie, na célula abaixo, as variáveis $N_i$, $t$ e $g$, e atribua seus respectivos valores."
   ]
  },
  {
   "cell_type": "code",
   "execution_count": null,
   "metadata": {},
   "outputs": [],
   "source": [
    "# Variáveis\n"
   ]
  },
  {
   "cell_type": "markdown",
   "metadata": {},
   "source": [
    "Agora escreva a expressão para o cálculo da população bacteriana na célula abaixo."
   ]
  },
  {
   "cell_type": "code",
   "execution_count": 2,
   "metadata": {},
   "outputs": [],
   "source": [
    "# Expressão\n"
   ]
  },
  {
   "cell_type": "markdown",
   "metadata": {},
   "source": [
    "Você deve ter percebido que o uso de variáveis torna seu modelo mais compreensivel e de certa forma reutilizável, bastando modificar os valores associados às variáveis para computar novos resultados. Experimente alterar os valores das variáveis $t$, $N_i$ e $g$, e observe as respostas do seu modelo. Elas fazem sentido?"
   ]
  },
  {
   "cell_type": "markdown",
   "metadata": {},
   "source": [
    "---"
   ]
  },
  {
   "cell_type": "markdown",
   "metadata": {},
   "source": [
    "##### Etapa 2"
   ]
  },
  {
   "cell_type": "markdown",
   "metadata": {},
   "source": [
    "A primeira versão da nossa calculadora bacteriana ficou até interessante, mas no fundo ela não ficou tão fácil de ser reutilizada. Isso porque sempre que queremos calcular o tamanho da população com parâmetros diferentes temos que primeiro redefinir as variáveis e depois fazer o cálculo usando a expressão do crescimento exponencial, tudo manualmente. \n",
    "Seria ótimo podermos **abstrair** estes passos intermediários, de forma que o usuário precisasse apenas informar os valores desejados para os parâmetros, sem precisar se preocupar com a expressão do crescimento em si.\n",
    "Vamos então **encapsular** nossa calculadora em uma **função**."
   ]
  },
  {
   "cell_type": "markdown",
   "metadata": {},
   "source": [
    "Escreva a função `tamanhoPopulacional`, que recebe como *inputs* o \"tempo decorrido\", o \"tamanho da população colonizadora\", \"tempo de geração da bactéria\"."
   ]
  },
  {
   "cell_type": "code",
   "execution_count": null,
   "metadata": {},
   "outputs": [],
   "source": []
  },
  {
   "cell_type": "markdown",
   "metadata": {},
   "source": [
    "Agora teste sua função. Você consegue obter os mesmos resultados da etapa anterior?"
   ]
  }
 ],
 "metadata": {
  "kernelspec": {
   "display_name": "Python 3",
   "language": "python",
   "name": "python3"
  },
  "language_info": {
   "codemirror_mode": {
    "name": "ipython",
    "version": 3
   },
   "file_extension": ".py",
   "mimetype": "text/x-python",
   "name": "python",
   "nbconvert_exporter": "python",
   "pygments_lexer": "ipython3",
   "version": "3.7.0"
  }
 },
 "nbformat": 4,
 "nbformat_minor": 2
}
