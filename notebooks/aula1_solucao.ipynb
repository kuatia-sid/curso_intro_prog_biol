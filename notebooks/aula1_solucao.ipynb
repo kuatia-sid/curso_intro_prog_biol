{
 "cells": [
  {
   "cell_type": "markdown",
   "metadata": {},
   "source": [
    "<div class=\"row\">\n",
    "  <div class=\"col-xs-3 col-xs-offset-2\" style=\"text-align: center; margin-top: 10px;\">\n",
    "      <a href=\"http://www.lncc.br/eventoSeminario/eventoconsultar.php?vMenu=4&idt_evento=1758&vAno=2018\" style=\"text-decoration: none;\" >\n",
    "          <span style=\"font-size: 23px; color: #507786; \">Programa de Verão</span> <br />\n",
    "          <span style=\"font-size: 22px; font-weight: bold;\">LNCC</span>\n",
    "      </a>\n",
    "  </div>\n",
    "\n",
    "  <div class=\"col-xs-3\" style=\"margin-top: 14px;\">\n",
    "  <a href=\"http://www.lncc.br\" target=\"_blank\"><img src=\"img/lncc.png\" width=180></a>\n",
    "  </div>\n",
    "</div>"
   ]
  },
  {
   "cell_type": "markdown",
   "metadata": {},
   "source": [
    "## <center>Programação de Computadores para Estudantes de Biologia</center>\n",
    "###  <center>Uma Introdução Prática</center>\n",
    "---\n",
    "## <center>Aula 1. Conceitos Fundamentais</center>\n",
    "##### <center>Instrutores: <a href=\"https://pedrosiracusa.github.io\" target=\"_blank\">Pedro C. de Siracusa</a> & <a href=\"http://lattes.cnpq.br/4351493119966081\" target=\"_blank\">Yasmmin C. Martins</a></center>\n",
    "##### <center>Data: Fev 2018</center>"
   ]
  },
  {
   "cell_type": "markdown",
   "metadata": {},
   "source": [
    "##### Conteúdos\n",
    "* [1. Introdução](#1.-Introdução)\n",
    "* [2. Conhecendo os principais tipos e valores](#2.-Conhecendo-os-principais-tipos-e-valores)\n",
    "\n",
    "* [3. Seu primeiro programa](#3.-Seu-primeiro-programa)\n",
    "  * [3.1 Operadores e expressões](#3.1-Operadores-e-expressões)\n",
    "  * [3.2 Variáveis e atribuições](#3.2-Variáveis-e-atribuições)\n",
    "  \n",
    "* [4. Organizando e estruturando informações](#4.-Organizando-e-estruturando-informações)\n",
    "  * [4.1 Listas](#4.1-Listas)\n",
    "  * [4.2 Dicionários](#4.2-Dicionários)\n",
    "  \n",
    "* [5. Adicionando lógica aos seus programas](#5.-Adicionando-lógica-aos-seus-programas)\n",
    "  * [5.1 Expressões condicionais](#5.1-Expressões-condicionais)\n",
    "  \n",
    "* [6. Lidando com comandos repetitivos](#6.-Lidando-com-comandos-repetitivos)\n",
    "  * [6.1 Estruturas de repetição: Loops](#6.1-Estruturas-de-repetição:-loops)\n",
    "  * [6.2 Funções](#6.2-Funções)\n",
    "  \n",
    "* [7. Considerações Finais](#7.-Considerações-Finais)"
   ]
  },
  {
   "cell_type": "markdown",
   "metadata": {},
   "source": [
    "---"
   ]
  },
  {
   "cell_type": "markdown",
   "metadata": {},
   "source": [
    "# 1. Introdução"
   ]
  },
  {
   "cell_type": "markdown",
   "metadata": {},
   "source": [
    "Apesar de o mundo da computação ser repleto de jargões e abstrações próprias, muitas das ideias que compõem este domínio mostram-se análogas a conceitos já conhecidos do nosso cotidiano. Em um primeiro contato com a prática da programação explorar analogias acaba potencializando o aprendizado, facilitando a compreensão e abstração de conceitos mais fundamentais por aproximá-los ao senso comum. Para entender o que é programar vamos começar com uma analogia que possivelmente despertará suas memórias de infância: brincar com **LEGO** (ou similares).\n",
    "\n",
    "<img src=\"img/lego_programming.png\" >\n",
    "\n"
   ]
  },
  {
   "cell_type": "markdown",
   "metadata": {},
   "source": [
    "Seguindo esta analogia o trabalho do **programador** é construir estruturas complexas (como um castelo) utilizando blocos fundamentais, partindo do pressuposto de que os blocos já estarão disponíveis para ele. Ele projeta as funcionalidades que deseja criar com suas construções e planeja como utilizar os blocos disponíveis para chegar até elas. Sendo assim o programador não precisa se preocupar em construir os blocos do zero antes de começar a trabalhar. \n",
    "\n",
    "O conjunto de blocos fundamentais disponíveis para o programador constituiria uma **linguagem de programação**. Em termos gerais ela reúne conjuntos de regras e estruturas que permitem que o programador expresse suas ideias na forma de **código**. Escrever código seria como encaixar blocos. Neste curso você trabalhará com a linguagem [*Python*](https://www.python.org/), uma linguagem de **propósito geral** que oferece **alto nível** de abstração. Isso faz de *Python* uma excelente primeira linguagem a ser aprendida, pois *(i)* você poderá aplicar seus novos conhecimentos em programação a vários projetos e contextos diferentes; e *(ii)* você trabalhará sem se preocupar com detalhes sobre como seu código se traduz para **código de máquina**, que é o código que seu computador de fato \"entende\". Entretanto existem muitas outras linguagens de programação, cada qual projetada para um propósito. Você já deve ter ouvido falar, por exemplo, da [linguagem R](https://www.r-project.org/), muito utilizada para computação estatística e análise de dados."
   ]
  },
  {
   "cell_type": "markdown",
   "metadata": {},
   "source": [
    "---"
   ]
  },
  {
   "cell_type": "markdown",
   "metadata": {},
   "source": [
    "## 2. Conhecendo os principais tipos e valores\n",
    "Antes de começar a montar LEGO precisamos conhecer os formatos e cores dos blocos com os quais trabalharemos, certo? Assim podemos planejar como melhor representar cada elemento que queremos construir. Além disso, outros fabricantes de brinquedos montáveis fornecem blocos parecidos com os da LEGO em formato e cor, mas sempre existem particularidades. Nas linguagens de programação isso também ocorre com tipos e valores. \n"
   ]
  },
  {
   "cell_type": "markdown",
   "metadata": {},
   "source": [
    "**Tipos** são abstrações fundamentais da linguagem que nos permitem representar elementos de informação. Cada linguagem possui um conjunto de *tipos primitivos* (ou fundamentais), a partir dos quais o programador pode construir *tipos compostos*. Tipos são análogos aos diferentes formatos de blocos disponíveis em uma caixa de LEGO. Pense em tipos compostos como se você \"criasse\" uma peça nova colando (e não encaixando) peças menores. Veja os [tipos nativos](https://docs.python.org/3/library/stdtypes.html#built-in-types) em *Python*.\n",
    "\n",
    "**Valores** são os elementos de informação em si. O conjunto de diferentes valores que podem ser representados por um tipo é finito, formando uma gama limitada de opções. No mundo LEGO são as cores com que as peças podem aparecer. Entretanto saiba que o número de cores disponíveis para cada peça em LEGO é em geral muito menor do que o tamanho do conjunto de valores para cada tipo em uma linguagem de programação!\n",
    "\n",
    "<img src=\"img/lego_typesvalues.png\">\n"
   ]
  },
  {
   "cell_type": "markdown",
   "metadata": {},
   "source": [
    "A que tipos pertencem os **valores** a seguir?"
   ]
  },
  {
   "cell_type": "markdown",
   "metadata": {},
   "source": [
    "Tipo de **3** : Integer (`int`) \n",
    "\n",
    "Tipo de **3.5** : Float (`float`)\n",
    "\n",
    "Tipo de **'3'** : String (`str`)\n",
    "\n",
    "Tipo de **\"3.5\"** : String (`str`)\n",
    "\n",
    "Tipo de **True**: Boolean (`bool`)"
   ]
  },
  {
   "cell_type": "markdown",
   "metadata": {},
   "source": [
    "Exemplificar os **tipos** a seguir:"
   ]
  },
  {
   "cell_type": "markdown",
   "metadata": {},
   "source": [
    "String (`str`) : `\"Hello World\"`, `'Hello World'`\n",
    "\n",
    "Integer (`int`) : `42`\n",
    "\n",
    "Float (`float`): `42.0`\n",
    "\n",
    "Boolean (`bool`) : `True` ou `False`"
   ]
  },
  {
   "cell_type": "markdown",
   "metadata": {},
   "source": [
    "### Como descobrir o tipo de um valor?\n",
    "\n",
    "A **função** [`type`](https://docs.python.org/3/library/functions.html#type) é nativa do Python e pode ser usada para descobrir o tipo de um dado valor.\n",
    "\n",
    "> **Funções** são estruturas que recebem dados de entrada (*input*) e criam como resultado dados de saída (*output*) segundo um conjunto de instruções pré-definidas. Veremos este tópico mais adiante, mas por enquanto saiba que para utilizá-las você deve seguir a sintaxe: `nome_funcao(input)`. Experimente na célula abaixo!"
   ]
  },
  {
   "cell_type": "code",
   "execution_count": 1,
   "metadata": {},
   "outputs": [
    {
     "data": {
      "text/plain": [
       "str"
      ]
     },
     "execution_count": 1,
     "metadata": {},
     "output_type": "execute_result"
    }
   ],
   "source": [
    "type(\"Hello World\")"
   ]
  },
  {
   "cell_type": "code",
   "execution_count": 2,
   "metadata": {},
   "outputs": [
    {
     "data": {
      "text/plain": [
       "str"
      ]
     },
     "execution_count": 2,
     "metadata": {},
     "output_type": "execute_result"
    }
   ],
   "source": [
    "type('Hello World')"
   ]
  },
  {
   "cell_type": "code",
   "execution_count": 3,
   "metadata": {},
   "outputs": [
    {
     "data": {
      "text/plain": [
       "int"
      ]
     },
     "execution_count": 3,
     "metadata": {},
     "output_type": "execute_result"
    }
   ],
   "source": [
    "type(42)"
   ]
  },
  {
   "cell_type": "code",
   "execution_count": 4,
   "metadata": {},
   "outputs": [
    {
     "data": {
      "text/plain": [
       "float"
      ]
     },
     "execution_count": 4,
     "metadata": {},
     "output_type": "execute_result"
    }
   ],
   "source": [
    "type(42.0)"
   ]
  },
  {
   "cell_type": "code",
   "execution_count": 5,
   "metadata": {},
   "outputs": [
    {
     "data": {
      "text/plain": [
       "bool"
      ]
     },
     "execution_count": 5,
     "metadata": {},
     "output_type": "execute_result"
    }
   ],
   "source": [
    "type(True)"
   ]
  },
  {
   "cell_type": "markdown",
   "metadata": {},
   "source": [
    "> **Comentários**: Linhas de código precedidas por um `#` são comentários, que funcionam como mensagens a quem está lendo seu código, normalmente outros programadores. É comum utilizar comentários para documentar partes de um código, ou marcar regiões que devem ser trabalhadas futuramente. Qualquer coisa escrita na mesma linha à direita do símbolo é simplesmente ignorada pelo interpretador."
   ]
  },
  {
   "cell_type": "code",
   "execution_count": 6,
   "metadata": {},
   "outputs": [
    {
     "name": "stdout",
     "output_type": "stream",
     "text": [
      "Second line\n"
     ]
    }
   ],
   "source": [
    "#print(\"First line\")\n",
    "print(\"Second line\") #Toda a linha à direita do símbolo '#' é ignorado!"
   ]
  },
  {
   "cell_type": "markdown",
   "metadata": {},
   "source": [
    "Agora que você já conhece os principais tipos (que por sinal existem em grande parte das linguagens de programação) podemos começar a \"encaixar blocos\", ou seja, escrever código. Nas seções seguintes você verá como fazê-lo para resolver diferentes tipos de problemas."
   ]
  },
  {
   "cell_type": "markdown",
   "metadata": {},
   "source": [
    "---"
   ]
  },
  {
   "cell_type": "markdown",
   "metadata": {},
   "source": [
    "## 3. Seu primeiro programa"
   ]
  },
  {
   "cell_type": "markdown",
   "metadata": {},
   "source": [
    "##### A calculadora bacteriana\n",
    "\n",
    "Você trabalha no laboratório de Microbiologia e está cultivando uma colônia de bactérias para seu experimento em um meio rico em nutrientes. Você sabe que o tempo médio que estas bactérias levam para se reproduzir por fissão binária - ou *tempo de geração* - é de 20 minutos. Como construir um **modelo** para estimar o tamanho desta população no meio como resultado do tempo decorrido desde sua colonização? Por simplicidade, vamos considerar aqui que o crescimento é **exponencial** durante todo o processo."
   ]
  },
  {
   "cell_type": "markdown",
   "metadata": {},
   "source": [
    "##### Desenvolvimento\n"
   ]
  },
  {
   "cell_type": "markdown",
   "metadata": {},
   "source": [
    "Seu primeiro programa será esta calculadora bacteriana. Ela funcionará com base em um modelo matemático bastante simples criado para o estudo de crescimento em populações biológicas: o **modelo de crescimento exponencial**\n",
    "\n",
    "$$ N(t)=N_i\\cdot 2^{ \\frac{t}{g}}$$\n",
    "\n",
    "em que:\n",
    "* $N(t)$ é o tamanho populacional no tempo $t$;\n",
    "* $N_i$ é o tamanho da população colonizadora;\n",
    "* $t$ é o tempo decorrido desde a colonização;\n",
    "* $g$ é o tempo de geração da bactéria.\n",
    "\n",
    "Precisamos representar este modelo no computador. Para isso precisaremos entender sobre **operadores**, **expressões** e **variáveis**."
   ]
  },
  {
   "cell_type": "markdown",
   "metadata": {},
   "source": [
    "### 3.1 Operadores e expressões"
   ]
  },
  {
   "cell_type": "markdown",
   "metadata": {},
   "source": [
    "**Operadores** são símbolos que realizam computações mais fundamentais - como por exemplo soma, subtração, multiplicação e divisão -, utilizando sintaxes pré-definidas. Um resultado é obtido a partir de sua atuação sobre dois operandos. **Expressões** são escritas combinando valores e operadores, e sua avaliação fornece algum resultado. Experimente abaixo os operadores aritméticos de soma, subtração, multiplicação, exponencial, divisão e módulo (`+`, `-`, `*`, `**`, `/`, `%`)."
   ]
  },
  {
   "cell_type": "code",
   "execution_count": 7,
   "metadata": {},
   "outputs": [
    {
     "name": "stdout",
     "output_type": "stream",
     "text": [
      "9 + 9 = 18\n",
      "257 - 194 = 63\n",
      "137 x 7 = 91\n",
      "2^8 =  256\n",
      "91 / 6 = 15.166666666666666\n",
      "91 // 6 = 15\n",
      "resto de 91 / 6 = 1\n"
     ]
    }
   ],
   "source": [
    "# Somar 9 com 9\n",
    "print(\"9 + 9 =\", 9+9)\n",
    "\n",
    "# Subtrair 194 de 257\n",
    "print(\"257 - 194 =\", 257-194)\n",
    "\n",
    "# Multiplicar 137 e 7\n",
    "print(\"137 x 7 =\", 13*7)\n",
    "\n",
    "# Exponenciar 2 à 8 potência\n",
    "print(\"2^8 = \", 2**8)\n",
    "\n",
    "# Dividir 91 por 6\n",
    "print(\"91 / 6 =\", 91/6)\n",
    "\n",
    "# Divisão inteira de 91 por 6\n",
    "print(\"91 // 6 =\", 91//6)\n",
    "\n",
    "# Resto da divisão (módulo) de 91 por 6\n",
    "print(\"resto de 91 / 6 =\", 91%6)"
   ]
  },
  {
   "cell_type": "markdown",
   "metadata": {},
   "source": [
    "A ordem de avaliação dos elementos em uma expressão segue a mesma convenção utilizada na matemática. Elementos entre parênteses têm prioridade (precedência) durante a avaliação.\n",
    "\n",
    "Represente em código a expressão: $$ \\frac{3+(3\\times5)}{2\\times(2+3)} $$"
   ]
  },
  {
   "cell_type": "code",
   "execution_count": 8,
   "metadata": {},
   "outputs": [
    {
     "data": {
      "text/plain": [
       "1.8"
      ]
     },
     "execution_count": 8,
     "metadata": {},
     "output_type": "execute_result"
    }
   ],
   "source": [
    "(3+(3*5))/(2*(2+3))"
   ]
  },
  {
   "cell_type": "markdown",
   "metadata": {},
   "source": [
    "> Alguns operadores podem também operar sobre outros tipos não-numéricos. Experimente por exemplo somar *strings*."
   ]
  },
  {
   "cell_type": "code",
   "execution_count": 9,
   "metadata": {},
   "outputs": [
    {
     "data": {
      "text/plain": [
       "'HelloWorld'"
      ]
     },
     "execution_count": 9,
     "metadata": {},
     "output_type": "execute_result"
    }
   ],
   "source": [
    "\"Hello\" + \"World\""
   ]
  },
  {
   "cell_type": "code",
   "execution_count": 10,
   "metadata": {},
   "outputs": [
    {
     "data": {
      "text/plain": [
       "'Hello World'"
      ]
     },
     "execution_count": 10,
     "metadata": {},
     "output_type": "execute_result"
    }
   ],
   "source": [
    "\"Hello \" + \"World\""
   ]
  },
  {
   "cell_type": "markdown",
   "metadata": {},
   "source": [
    "### 3.2 Variáveis e atribuições"
   ]
  },
  {
   "cell_type": "markdown",
   "metadata": {},
   "source": [
    "Quando estamos programando é frequente precisarmos utilizar valores obtidos em etapas anteriores do código sem ter que executá-lo todo novamente. Linguagens de programação oferecem uma maneira bastante intuitiva para mantermos referência a estes valores anteriormente computados: variáveis.\n",
    "\n",
    "Para associar uma variável a um valor basta utilizar a **notação de atribuição**:\n",
    "\n",
    "`myVariable = \"Value\"`\n",
    "\n",
    "A partir daí, o valor se torna acessível utilizando o nome da variável."
   ]
  },
  {
   "cell_type": "markdown",
   "metadata": {
    "collapsed": true
   },
   "source": [
    "Atribua o resultado da equação $ \\bigg[ \\frac{3\\times(2+5)-20}{3} \\bigg] ^2$ à variável **`a`** e o resultado de $\\sqrt 2 + 1$ à variável **`b`**. \n",
    "\n",
    "Em seguida compute o resultado de $2a + b$. \n",
    "\n",
    "**obs**: $\\sqrt 2 = 2^{ \\frac{1}{2}}$"
   ]
  },
  {
   "cell_type": "code",
   "execution_count": 11,
   "metadata": {},
   "outputs": [
    {
     "data": {
      "text/plain": [
       "2.6364357845953172"
      ]
     },
     "execution_count": 11,
     "metadata": {},
     "output_type": "execute_result"
    }
   ],
   "source": [
    "# Resultado esperado: 2.6364357845953172\n",
    "a = ( (3*(2+5)-20)/3 )**2\n",
    "b = 2**(1/2) + 1\n",
    "\n",
    "2*a + b"
   ]
  },
  {
   "cell_type": "markdown",
   "metadata": {},
   "source": [
    "Na maioria das linguagens de programação o símbolo `=` é usado para **atribuição** de um valor (à direita) a uma variável (à direita). Se desejarmos comparar os resultados de duas expressões utilizamos o operador `==`, conhecido como **operador de igualdade**. O resultado deste operador sobre duas expressões é do tipo *booleano* (*True/False*), e informa se as duas expressões resultam ou não no mesmo valor."
   ]
  },
  {
   "cell_type": "code",
   "execution_count": 12,
   "metadata": {},
   "outputs": [
    {
     "data": {
      "text/plain": [
       "False"
      ]
     },
     "execution_count": 12,
     "metadata": {},
     "output_type": "execute_result"
    }
   ],
   "source": [
    "# 5 = 3 ?\n",
    "5==3"
   ]
  },
  {
   "cell_type": "code",
   "execution_count": 13,
   "metadata": {},
   "outputs": [
    {
     "data": {
      "text/plain": [
       "True"
      ]
     },
     "execution_count": 13,
     "metadata": {},
     "output_type": "execute_result"
    }
   ],
   "source": [
    "# 5 = 3+2 ?\n",
    "5 == 3+2"
   ]
  },
  {
   "cell_type": "markdown",
   "metadata": {},
   "source": [
    "> **Palavras reservadas**: Alguns nomes possuem significado especial para a linguagem de programação, e não devem ser usados como nomes de variáveis. No ambiente *Jupyter* palavras reservadas ou funções nativas são destacadas em verde, para que o programador evite utilizá-las. Veja a [lista](https://docs.python.org/3/reference/lexical_analysis.html#keywords) de palavras reservadas em *Python*."
   ]
  },
  {
   "cell_type": "markdown",
   "metadata": {},
   "source": [
    "##### Exercício 3.2.1 \n",
    "Verifique se as equações abaixo são corretas:\n",
    "\n",
    "a) $2 \\times 2.0 = 4$"
   ]
  },
  {
   "cell_type": "code",
   "execution_count": 14,
   "metadata": {},
   "outputs": [
    {
     "data": {
      "text/plain": [
       "True"
      ]
     },
     "execution_count": 14,
     "metadata": {},
     "output_type": "execute_result"
    }
   ],
   "source": [
    "2*2.0 == 4"
   ]
  },
  {
   "cell_type": "markdown",
   "metadata": {},
   "source": [
    "b) $2 \\times 3 = 5$"
   ]
  },
  {
   "cell_type": "code",
   "execution_count": 15,
   "metadata": {},
   "outputs": [
    {
     "data": {
      "text/plain": [
       "False"
      ]
     },
     "execution_count": 15,
     "metadata": {},
     "output_type": "execute_result"
    }
   ],
   "source": [
    "2*3 == 5"
   ]
  },
  {
   "cell_type": "markdown",
   "metadata": {},
   "source": [
    "c) $4a + 3 = b$, para $a=3$ e $b=15$ (primeiro declare as variáveis **a** e **b**)"
   ]
  },
  {
   "cell_type": "code",
   "execution_count": 16,
   "metadata": {},
   "outputs": [
    {
     "data": {
      "text/plain": [
       "True"
      ]
     },
     "execution_count": 16,
     "metadata": {},
     "output_type": "execute_result"
    }
   ],
   "source": [
    "a = 3\n",
    "b = 15\n",
    "\n",
    "4*a + 3 == b"
   ]
  },
  {
   "cell_type": "markdown",
   "metadata": {},
   "source": [
    "##### Exercício 3.2.2 \n",
    "Declare as variáveis $a=\\frac{2}{2}$ e $b = 1^2$. Em seguida descubra se elas possuem o mesmo **tipo** e **valor**."
   ]
  },
  {
   "cell_type": "code",
   "execution_count": 17,
   "metadata": {
    "collapsed": true
   },
   "outputs": [],
   "source": [
    "a = 2/2\n",
    "b = 1**2"
   ]
  },
  {
   "cell_type": "code",
   "execution_count": 18,
   "metadata": {},
   "outputs": [
    {
     "data": {
      "text/plain": [
       "True"
      ]
     },
     "execution_count": 18,
     "metadata": {},
     "output_type": "execute_result"
    }
   ],
   "source": [
    "a == b # Mesmo VALOR ?"
   ]
  },
  {
   "cell_type": "code",
   "execution_count": 19,
   "metadata": {},
   "outputs": [
    {
     "data": {
      "text/plain": [
       "False"
      ]
     },
     "execution_count": 19,
     "metadata": {},
     "output_type": "execute_result"
    }
   ],
   "source": [
    "type(a) == type(b) # Mesmo TIPO ?"
   ]
  },
  {
   "cell_type": "markdown",
   "metadata": {},
   "source": [
    "Agora vamos voltar à calculadora bacteriana. Usando os princípios apresentados acima você pode finalmente construir o modelo computacional que estará por trás da calculadora. Execute seu modelo com valores diferentes para cada uma das variáveis e observe os resultados."
   ]
  },
  {
   "cell_type": "code",
   "execution_count": 20,
   "metadata": {
    "collapsed": true
   },
   "outputs": [],
   "source": [
    "#    1. Declare as variáveis N_i, t e g;\n",
    "#    2. Associe o resultado do cálculo do tamanho populacional a uma variável-resposta N_t;\n",
    "#    3. Imprima N_t no console\n",
    "\n",
    "N_i = 2 # pop inicial\n",
    "t = 40 # tempo decorrido\n",
    "g = 20 # tempo de geração\n",
    "\n",
    "N_t = N_i * 2**((t/g))"
   ]
  },
  {
   "cell_type": "code",
   "execution_count": 21,
   "metadata": {},
   "outputs": [
    {
     "data": {
      "text/plain": [
       "8.0"
      ]
     },
     "execution_count": 21,
     "metadata": {},
     "output_type": "execute_result"
    }
   ],
   "source": [
    "N_t"
   ]
  },
  {
   "cell_type": "markdown",
   "metadata": {},
   "source": [
    "Parabéns pela construção do seu primeiro programa! Agora que você já é capaz de representar equações matemáticas no seu computador poderá ir com o tempo aprimorando seus modelos, tornando-os cada vez mais complexos. Você deve ter percebido que o uso de variáveis torna seu modelo mais compreensivel e reutilizável, bastando modificar os valores associados às variáveis para computar novos resultados. Entretanto em muitos casos nosso problema requer que armazenemos valores de forma **estruturada**."
   ]
  },
  {
   "cell_type": "markdown",
   "metadata": {},
   "source": [
    "---"
   ]
  },
  {
   "cell_type": "markdown",
   "metadata": {},
   "source": [
    "## 4. Organizando e estruturando informações"
   ]
  },
  {
   "cell_type": "markdown",
   "metadata": {},
   "source": [
    "##### Classificação de mutações em genes\n",
    "\n",
    "Você está fazendo a análise de dados de exoma para correlacionar mutações entre os indivíduos que possuem determinadas características de uma doença específica e a hipótese é de que pode haver novas mutações patogênicas marcadoras desta doença ou um gene que pode ser mais afetado por tais mutações. Vamos supor que a tabela abaixo representa uma parte dos dados compilados:"
   ]
  },
  {
   "cell_type": "markdown",
   "metadata": {},
   "source": [
    "##### <center>Tabela de Mutações</center>\n",
    "\n",
    "| Indivíduo | Tipo de mutação | Gene | Patogênica | Outras doenças associadas\n",
    "|--|--|\n",
    "| I1 | Missense | Mapk1 | Sim | 3\n",
    "| I1 | Polimorfismo | BRCA1 | Sim | 2\n",
    "| I1 | Polimorfismo | BRCA2 | Sim | 5\n",
    "| I2 | Polimorfismo | P53 | Não | 0\n",
    "| I2 | Inserção | Mapk1 | Sim | 1\n",
    "| I2 | Polimorfismo | EGFR | Não | 0\n",
    "| I3 | Deleção | ACR | Não | 0\n",
    "| I3 | Polimorfismo | Mapk11 | Sim | 3\n",
    "| I3 | Nonsense | Mapk12 | Não | 0\n",
    "| I3 | Inserção  | Mapk1 | Sim | 2"
   ]
  },
  {
   "cell_type": "markdown",
   "metadata": {},
   "source": [
    "##### Desenvolvimento"
   ]
  },
  {
   "cell_type": "markdown",
   "metadata": {},
   "source": [
    "Este é um projeto complexo, mas você pode começar desenvolvendo as funcionalidades mais simples. Em primeiro lugar você precisará encontrar uma forma de representar seus **dados tabelados** no programa. A boa notícia é que o *Python* já tem duas estruturas nativas para te ajudar nisso!"
   ]
  },
  {
   "cell_type": "markdown",
   "metadata": {},
   "source": [
    "### 4.1 Listas\n",
    "Listas (tipo *list*) são estruturas de dados nativas em *Python* que armazenam um conjunto de valores que podem ter tipos diferentes. A ordem dos valores armazenados na lista permanece a mesma em que foram inseridos.\n",
    "* Criar uma lista: Insira valores separados entre si por vírgulas entre colchetes: `[v1,v2,v3]`;\n",
    "* Acessar um elemento dentro da lista: Use a notação de **indexação**: `myList[i]`, sendo `i` o índice do elemento que queremos acessar na lista referenciada pela variável `myList`;\n",
    "> **Indexação**: Cada elemento dentro de uma lista *Python* é associado a um índice numérico, que vai de `0` a `n-1`, sendo `n` o número de elementos na lista. \n",
    "\n",
    "Construa e atribua à variável `individuos` uma lista contendo os identificadores dos indivíduos. Em seguida acesse o segundo elemento desta lista."
   ]
  },
  {
   "cell_type": "code",
   "execution_count": 22,
   "metadata": {
    "collapsed": true
   },
   "outputs": [],
   "source": [
    "individuos = ['I1','I2','I3']"
   ]
  },
  {
   "cell_type": "code",
   "execution_count": 23,
   "metadata": {},
   "outputs": [
    {
     "data": {
      "text/plain": [
       "'I2'"
      ]
     },
     "execution_count": 23,
     "metadata": {},
     "output_type": "execute_result"
    }
   ],
   "source": [
    "# O segundo elemento da lista está no índice 1\n",
    "individuos[1]"
   ]
  },
  {
   "cell_type": "markdown",
   "metadata": {},
   "source": [
    "Sublistas podem ser obtidas a partir de listas através da notação de ***slicing***. Para obter um *slice* (pedaço) de uma lista utilize a notação de indexação, trocando o `i` entre colchetes por dois índices que simbolizam os elementos de início e fim (não-inclusivo) separados por dois-pontos: `[i:j]`. \n",
    "\n",
    "Obtenha uma sublista da lista `individuos` contendo apenas os dois primeiros individuos. "
   ]
  },
  {
   "cell_type": "code",
   "execution_count": 24,
   "metadata": {},
   "outputs": [
    {
     "data": {
      "text/plain": [
       "['I1', 'I2']"
      ]
     },
     "execution_count": 24,
     "metadata": {},
     "output_type": "execute_result"
    }
   ],
   "source": [
    "individuos[:2]"
   ]
  },
  {
   "cell_type": "code",
   "execution_count": 25,
   "metadata": {},
   "outputs": [
    {
     "data": {
      "text/plain": [
       "['I1', 'I2']"
      ]
     },
     "execution_count": 25,
     "metadata": {},
     "output_type": "execute_result"
    }
   ],
   "source": [
    "individuos[0:2]"
   ]
  },
  {
   "cell_type": "markdown",
   "metadata": {},
   "source": [
    "Listas podem ser geradas em tempo real a partir da função `list`, usando por exemplo elementos retornados por outras funções como entrada (*input*)."
   ]
  },
  {
   "cell_type": "markdown",
   "metadata": {},
   "source": [
    "> A função **`range`** gera uma sequência de números que podem ser utilizados, por exemplo, para a construção de uma lista. Tente criar uma lista de dez números (0 até 9). Para isso chame a função `range` utilizando como argumentos (input) o número de elementos que devem ser gerados. Em seguida utilize a saída da função `range` como entrada para a função `list`. Se precisar, consulte a documentação das funções com o atalho `shift + tab` (o cursor precisa estar entre os parênteses da chamada da função)."
   ]
  },
  {
   "cell_type": "code",
   "execution_count": 26,
   "metadata": {},
   "outputs": [
    {
     "data": {
      "text/plain": [
       "[0, 1, 2, 3, 4, 5, 6, 7, 8, 9]"
      ]
     },
     "execution_count": 26,
     "metadata": {},
     "output_type": "execute_result"
    }
   ],
   "source": [
    "list(range(10))"
   ]
  },
  {
   "cell_type": "markdown",
   "metadata": {},
   "source": [
    "Outras funções nativas de *Python* permitem manipular listas facilmente. Experimente as funções abaixo.\n",
    "* `len`: retorna o tamanho de uma lista;\n",
    "* `reversed`: retorna uma cópia da lista com os elementos em ordem invertida;\n",
    "* `max` e `min`: retorna o maior e menor valor dentro da lista, respectivamente;\n"
   ]
  },
  {
   "cell_type": "code",
   "execution_count": 27,
   "metadata": {
    "collapsed": true
   },
   "outputs": [],
   "source": [
    "l = ['a','b','c','d']"
   ]
  },
  {
   "cell_type": "code",
   "execution_count": 28,
   "metadata": {},
   "outputs": [
    {
     "data": {
      "text/plain": [
       "4"
      ]
     },
     "execution_count": 28,
     "metadata": {},
     "output_type": "execute_result"
    }
   ],
   "source": [
    "len(l)"
   ]
  },
  {
   "cell_type": "code",
   "execution_count": 29,
   "metadata": {},
   "outputs": [
    {
     "data": {
      "text/plain": [
       "['d', 'c', 'b', 'a']"
      ]
     },
     "execution_count": 29,
     "metadata": {},
     "output_type": "execute_result"
    }
   ],
   "source": [
    "list(reversed(l))"
   ]
  },
  {
   "cell_type": "code",
   "execution_count": 30,
   "metadata": {},
   "outputs": [
    {
     "data": {
      "text/plain": [
       "'d'"
      ]
     },
     "execution_count": 30,
     "metadata": {},
     "output_type": "execute_result"
    }
   ],
   "source": [
    "max(l)"
   ]
  },
  {
   "cell_type": "code",
   "execution_count": 31,
   "metadata": {},
   "outputs": [
    {
     "data": {
      "text/plain": [
       "'a'"
      ]
     },
     "execution_count": 31,
     "metadata": {},
     "output_type": "execute_result"
    }
   ],
   "source": [
    "min(l)"
   ]
  },
  {
   "cell_type": "markdown",
   "metadata": {},
   "source": [
    "O **operador `in`** é bastante útil quando estamos trabalhando com listas. A **expressão** na forma:\n",
    "\n",
    "`elemento` **`in`** `lista` \n",
    "\n",
    "retorna *True* se o elemento de fato existe e *False* caso contrário."
   ]
  },
  {
   "cell_type": "markdown",
   "metadata": {},
   "source": [
    "Verifique se 'I2' e 'I4' estão dentre os indivíduos que você armazenou. "
   ]
  },
  {
   "cell_type": "code",
   "execution_count": 32,
   "metadata": {},
   "outputs": [
    {
     "data": {
      "text/plain": [
       "True"
      ]
     },
     "execution_count": 32,
     "metadata": {},
     "output_type": "execute_result"
    }
   ],
   "source": [
    "'I2' in individuos"
   ]
  },
  {
   "cell_type": "code",
   "execution_count": 33,
   "metadata": {},
   "outputs": [
    {
     "data": {
      "text/plain": [
       "False"
      ]
     },
     "execution_count": 33,
     "metadata": {},
     "output_type": "execute_result"
    }
   ],
   "source": [
    "'I4' in individuos"
   ]
  },
  {
   "cell_type": "markdown",
   "metadata": {},
   "source": [
    "O **operador +** possui um significado especial quando se trata de listas. Ele permite criar uma nova lista usando os elementos da lista anterior e o novo elemento inserido ao final. \n",
    "\n",
    "**Obs:** Ambos os valores operados devem ser do tipo lista!"
   ]
  },
  {
   "cell_type": "markdown",
   "metadata": {},
   "source": [
    "Adicione uma nova indivíduo à lista `individuos`. O que acontece se você executar este comando repetidamente? Como você poderia resolver este problema usando *slicing*?"
   ]
  },
  {
   "cell_type": "code",
   "execution_count": 34,
   "metadata": {},
   "outputs": [
    {
     "data": {
      "text/plain": [
       "['I1', 'I2', 'I3', 'INovo']"
      ]
     },
     "execution_count": 34,
     "metadata": {},
     "output_type": "execute_result"
    }
   ],
   "source": [
    "individuos = individuos + ['INovo']\n",
    "individuos"
   ]
  },
  {
   "cell_type": "code",
   "execution_count": 35,
   "metadata": {},
   "outputs": [
    {
     "data": {
      "text/plain": [
       "['I1', 'I2', 'I3', 'INovo', 'INovo']"
      ]
     },
     "execution_count": 35,
     "metadata": {},
     "output_type": "execute_result"
    }
   ],
   "source": [
    "individuos = individuos + ['INovo']\n",
    "individuos"
   ]
  },
  {
   "cell_type": "code",
   "execution_count": 36,
   "metadata": {},
   "outputs": [
    {
     "data": {
      "text/plain": [
       "['I1', 'I2', 'I3', 'INovo']"
      ]
     },
     "execution_count": 36,
     "metadata": {},
     "output_type": "execute_result"
    }
   ],
   "source": [
    "# Resolvendo o problema com slicing\n",
    "individuos = individuos[:3] + ['INovo']\n",
    "individuos"
   ]
  },
  {
   "cell_type": "markdown",
   "metadata": {},
   "source": [
    "Agora que você já sabe um pouco sobre listas, construa três listas `polimorfismo_genes`, `insercao_genes` e `delecao_genes` armazenando os genes que possuem cada uma destas mutações."
   ]
  },
  {
   "cell_type": "code",
   "execution_count": 37,
   "metadata": {
    "collapsed": true
   },
   "outputs": [],
   "source": [
    "polimorfismo_genes = ['BRCA1','BRCA2','P53','EGFR','Mapk11']\n",
    "insercao_genes = ['Mapk1']\n",
    "delecao_genes = ['ACR']"
   ]
  },
  {
   "cell_type": "markdown",
   "metadata": {},
   "source": [
    "Ótimo! Já temos as listas de genes para cada tipo de mutação. Porém as listas para cada tipo de mutação estão armazenadas em estruturas separadas. Além disso estas listas por si só não nos permitem armazenar outras informações relevantes a respeito das mutações, por exemplo se são patogênicas ou não. Para resolver estes problemas vamos armazenar os dados em uma única estrutura, o **dicionário**."
   ]
  },
  {
   "cell_type": "markdown",
   "metadata": {},
   "source": [
    "### 4.2 Dicionários"
   ]
  },
  {
   "cell_type": "markdown",
   "metadata": {
    "collapsed": true
   },
   "source": [
    "Dicionários (tipo dict), assim como listas, são estruturas de dados que permitem armazenar conjuntos de valores. A principal diferença é que os valores são **indexados explicitamente** e não são ordenados. As chaves não precisam ser necessariamente numéricas. Podem ser, por exemplo, strings. Dicionários são também conhecidos como *mapas* ou *índices*."
   ]
  },
  {
   "cell_type": "markdown",
   "metadata": {},
   "source": [
    "#### Como criar um dicionário? \n",
    "  * Forma 1: Insira conjuntos de pares chave-valor (*key*,*value*) entre chaves: `{key1: value1, key2: value2}`;\n",
    "  * Forma 2: Utilize a função `dict` passando como *input* listas de tuplas `[(key1, value1), (key2,value2)]`;\n",
    " \n",
    "#### Como acessar um elemento em um dicionário?\n",
    "Use a notação de indexação: `myDict[k]`, sendo `k` o índice (chave) do elemento que queremos acessar"
   ]
  },
  {
   "cell_type": "markdown",
   "metadata": {},
   "source": [
    "Crie um dicionário chamado `dicionario_individuos` contendo pares chave-valor. Cada par contém como chave o identificador do indivíduo e como valor uma lista dos seus respectivos genes que possuem mutação."
   ]
  },
  {
   "cell_type": "code",
   "execution_count": 38,
   "metadata": {
    "collapsed": true
   },
   "outputs": [],
   "source": [
    "dicionario_individuos = {\n",
    "    'I1': ['Mapk1','BRCA1','BRCA2'],\n",
    "    'I2': ['P53','Mapk1','EGFR'],\n",
    "    'I3': ['Mapk11','Mapk12','Mapk1']\n",
    "}"
   ]
  },
  {
   "cell_type": "markdown",
   "metadata": {},
   "source": [
    "E se você quisesse armazenar outros **atributos** dos indivíduos além de seus genes? Você poderia construir um **dicionário de dicionários**! Neste caso cada chave estará associada ao valor que por sua vez é um dicionário. Veja o exemplo abaixo:\n",
    "\n",
    "```python\n",
    "dict_of_dicts = {\n",
    "    'key1': {'attr1': 1, 'attr2': True},\n",
    "    'key2': {'attr1': 4, 'attr2': False, 'attr3': \"extra\"},\n",
    "    'key3': {'attr1': 7, 'attr2': False}\n",
    "}```"
   ]
  },
  {
   "cell_type": "markdown",
   "metadata": {},
   "source": [
    "Para acessar o atributo 1 (`attr1`) da chave 2 (`key2`) por exemplo, a sintaxe é :\n",
    "```python\n",
    "dict_of_dicts['key2']['attr1']\n",
    "```"
   ]
  },
  {
   "cell_type": "markdown",
   "metadata": {},
   "source": [
    "Conhecendo listas e dicionários você já consegue estruturar em seu programa o conteúdo da tabela de mutações. Estruturaremos a tabela em forma de dicionário, com cada par chave-valor representando o nome de uma coluna e os dados inseridos nela, respectivamente. Como queremos acessar as mutações dado o nome do usuário, seus identificadores serão chaves no primeiro nível hierárquico do dicionário. O segundo nível hierárquico é composto pelas colunas."
   ]
  },
  {
   "cell_type": "markdown",
   "metadata": {},
   "source": [
    "Utilize a estrutura do dicionário abaixo para inserir os dados. Certifique-se de ter entendido bem a estrutura construída."
   ]
  },
  {
   "cell_type": "code",
   "execution_count": 39,
   "metadata": {
    "collapsed": true
   },
   "outputs": [],
   "source": [
    "dados_mutacoes = {\n",
    "    'I1': { 'mutacao':['Missense','Polimorfismo','Polimorfismo'],\n",
    "            'gene': ['Mapk1','BRCA1','BRCA2'], \n",
    "            'patogenica': [True, True, True],\n",
    "            'doencas': [3,2,5]\n",
    "          },\n",
    "    'I2': { 'mutacao':['Polimorfismo','Inserção','Polimorfismo'],\n",
    "            'gene': ['P53','Mapk1','EGFR'], \n",
    "            'patogenica': [False, True, False],\n",
    "            'doencas': [0,1,0]\n",
    "          },\n",
    "    'I3': { 'mutacao':['Deleção','Polimorfismo','Nonsense','Inserção'],\n",
    "            'gene': ['ACR','Mapk11','Mapk12','Mapk1'], \n",
    "            'patogenica': [False, True, False, True],\n",
    "            'doencas': [0,3,0,2]\n",
    "          }\n",
    "}"
   ]
  },
  {
   "cell_type": "markdown",
   "metadata": {},
   "source": [
    "Agora, usando a estrutura de dados que você acabou de construir responda:"
   ]
  },
  {
   "cell_type": "markdown",
   "metadata": {},
   "source": [
    "* Quais mutações o indivíduo `I1` possui?"
   ]
  },
  {
   "cell_type": "code",
   "execution_count": 40,
   "metadata": {},
   "outputs": [
    {
     "data": {
      "text/plain": [
       "['Missense', 'Polimorfismo', 'Polimorfismo']"
      ]
     },
     "execution_count": 40,
     "metadata": {},
     "output_type": "execute_result"
    }
   ],
   "source": [
    "dados_mutacoes['I1']['mutacao']"
   ]
  },
  {
   "cell_type": "markdown",
   "metadata": {},
   "source": [
    "* Quantas mutações do indivíduo `I2` são patogênicas?"
   ]
  },
  {
   "cell_type": "code",
   "execution_count": 41,
   "metadata": {},
   "outputs": [
    {
     "data": {
      "text/plain": [
       "[False, True, False]"
      ]
     },
     "execution_count": 41,
     "metadata": {},
     "output_type": "execute_result"
    }
   ],
   "source": [
    "dados_mutacoes['I2']['patogenica'] # Apenas uma mutação é patogênica"
   ]
  },
  {
   "cell_type": "code",
   "execution_count": 42,
   "metadata": {},
   "outputs": [
    {
     "data": {
      "text/plain": [
       "1"
      ]
     },
     "execution_count": 42,
     "metadata": {},
     "output_type": "execute_result"
    }
   ],
   "source": [
    "sum(dados_mutacoes['I2']['patogenica'])"
   ]
  },
  {
   "cell_type": "markdown",
   "metadata": {},
   "source": [
    "* Quais os genes associados a mutações no indivíduo `I3`?"
   ]
  },
  {
   "cell_type": "code",
   "execution_count": 43,
   "metadata": {},
   "outputs": [
    {
     "data": {
      "text/plain": [
       "['ACR', 'Mapk11', 'Mapk12', 'Mapk1']"
      ]
     },
     "execution_count": 43,
     "metadata": {},
     "output_type": "execute_result"
    }
   ],
   "source": [
    "dados_mutacoes['I3']['gene']"
   ]
  },
  {
   "cell_type": "markdown",
   "metadata": {},
   "source": [
    "Que legal! Você já conhece algumas das estruturas mais fundamentais da programação! Adicionando um pouco de *lógica* e *automação* seus programas certamente começarão a ficar mais interessantes! É isso que veremos nas próximas seções."
   ]
  },
  {
   "cell_type": "markdown",
   "metadata": {},
   "source": [
    "---"
   ]
  },
  {
   "cell_type": "markdown",
   "metadata": {},
   "source": [
    "## 5. Adicionando lógica aos seus programas"
   ]
  },
  {
   "cell_type": "markdown",
   "metadata": {},
   "source": [
    "##### Situação\n",
    "\n",
    "Seu orientador está ministrando uma disciplina e te pediu ajuda para gerenciar as notas dos alunos. Você deverá construir uma planilha com as notas das três provas (com pesos  de 20% para as duas primeiras e 60% para a terceira), média final e menção para cada um dos 30 alunos. A atribuição de menções segue a seguinte regra:\n",
    "\n",
    "$\n",
    "se  \\quad média \\ final \\geq 9 : menção = SS \\\\\n",
    "se \\quad 7 \\leq média \\ final < 9 : menção = MS \\\\ \n",
    "se \\quad 5 \\leq média \\ final < 7 : menção = MM \\\\ \n",
    "se \\quad 3 \\leq média \\ final < 5 : menção = MI \\\\ \n",
    "se \\quad média \\ final < 3 : menção = II \\\\ \n",
    "$\n",
    "\n",
    "Atribuir manualmente menções para cada aluno seria uma trabalheira se você não tivesse feito um minicurso de programação na semabio! =]"
   ]
  },
  {
   "cell_type": "markdown",
   "metadata": {},
   "source": [
    "##### Desenvolvimento\n",
    "\n",
    "Para resolver este problema vamos subdividi-lo em subproblemas e tentar resolvê-los individualmente.\n",
    "1. Calcular a média final do aluno baseado nas notas das provas `p1`, `p2` e `p3`;\n",
    "2. Usar a média final do aluno para obter a menção;\n",
    "3. Aplicar o cálculo da menção para todos os alunos da disciplina."
   ]
  },
  {
   "cell_type": "markdown",
   "metadata": {},
   "source": [
    "Com o que você aprendeu até agora você já consegue resolver o subproblema 1. Calcule a média final do aluno abaixo."
   ]
  },
  {
   "cell_type": "code",
   "execution_count": 44,
   "metadata": {
    "collapsed": true
   },
   "outputs": [],
   "source": [
    "# notas das provas p1,p2,p3 em escala de 0-10\n",
    "p1 = 3\n",
    "p2 = 3.5\n",
    "p3 = 6"
   ]
  },
  {
   "cell_type": "code",
   "execution_count": 45,
   "metadata": {},
   "outputs": [
    {
     "data": {
      "text/plain": [
       "4.9"
      ]
     },
     "execution_count": 45,
     "metadata": {},
     "output_type": "execute_result"
    }
   ],
   "source": [
    "# TODO: construir uma expressão para o cálculo da média final\n",
    "mFinal = 0.2*p1 + 0.2*p2 + 0.6*p3\n",
    "mFinal"
   ]
  },
  {
   "cell_type": "markdown",
   "metadata": {},
   "source": [
    "> **obs: **O marcador *TODO* é utilizado em comentários para indicar alguma funcionalidade que precisa ser implementada pelo programador."
   ]
  },
  {
   "cell_type": "markdown",
   "metadata": {},
   "source": [
    "Você conseguiu obter a média final do aluno. Mas como tranformar a média em menção? Expressões condicionais ao resgate!"
   ]
  },
  {
   "cell_type": "markdown",
   "metadata": {},
   "source": [
    "### 5.1 Expressões condicionais"
   ]
  },
  {
   "cell_type": "markdown",
   "metadata": {},
   "source": [
    "Expressões condicionais são estruturas de decisão fundamentais nas linguagens de programação que permitem que um programa altere seu comportamento dependendo do estado em que se encontra. Elas se baseiam na verificação de uma determinada **condição**, uma expressão construída compondo variáveis e valores com **operadores lógicos** que pode ser avaliada como verdadeira (*True*) ou falsa (*False*). Os operadores lógicos `and`, `or`, `not` podem ser combinados para construir estruturas de decisão mais complexas."
   ]
  },
  {
   "cell_type": "markdown",
   "metadata": {},
   "source": [
    "Para executar um código dependendo de uma condição ter sido avaliada como verdadeira, utilizamos a construção básica:\n",
    "\n",
    "`if < condição >: < código a executar >`"
   ]
  },
  {
   "cell_type": "markdown",
   "metadata": {},
   "source": [
    "Veja o exemplo abaixo. Aqui a utilizaremos a condição de `a` ser maior que 10. Atribua valores diferentes a `a` e observe o que acontece quando `a < 10` e quando `a` > 10."
   ]
  },
  {
   "cell_type": "code",
   "execution_count": 46,
   "metadata": {},
   "outputs": [
    {
     "name": "stdout",
     "output_type": "stream",
     "text": [
      "Hello, World!\n"
     ]
    }
   ],
   "source": [
    "a = 12\n",
    "if a > 10:\n",
    "    print(\"Hello, World!\")"
   ]
  },
  {
   "cell_type": "markdown",
   "metadata": {},
   "source": [
    "Normalmente é também desejável executar um pedaço de 'código alternativo' quando a condição é avaliada como falsa. Para isso usamos a palavra reservada `else`."
   ]
  },
  {
   "cell_type": "code",
   "execution_count": 47,
   "metadata": {},
   "outputs": [
    {
     "name": "stdout",
     "output_type": "stream",
     "text": [
      "Executo o código alternativo\n"
     ]
    }
   ],
   "source": [
    "a = 7\n",
    "if a >= 10:\n",
    "    print(\"Hello, World!\")\n",
    "else:\n",
    "    print(\"Executo o código alternativo\")"
   ]
  },
  {
   "cell_type": "markdown",
   "metadata": {},
   "source": [
    "Complete o código abaixo de forma que ele informe se um aluno foi aprovado ou reprovado em uma determinada disciplina dependendo de sua média final (0-10). A nota mínima para aprovação é 5.\n",
    "\n",
    "**Obs**: O operador `>=` significa \"maior ou igual a\"."
   ]
  },
  {
   "cell_type": "code",
   "execution_count": 48,
   "metadata": {},
   "outputs": [
    {
     "name": "stdout",
     "output_type": "stream",
     "text": [
      "Insira a nota do aluno: 7\n",
      "Aprovado!\n"
     ]
    }
   ],
   "source": [
    "notaAluno = float( input(\"Insira a nota do aluno: \") ) # a função input() atribui a entrada do usuário à variável\n",
    "\n",
    "if notaAluno >= 5:\n",
    "    print(\"Aprovado!\")\n",
    "else:\n",
    "    print(\"Reprovado\")"
   ]
  },
  {
   "cell_type": "markdown",
   "metadata": {},
   "source": [
    "> **Indentação**. Você notou que na célula acima o código da função `print` nas linhas 4 e 6 está espaçado em 4 caracteres (ou 1 tab) da margem? Este espaçamento é conhecido como indentação, e indica quais linhas de código pertencem a um mesmo contexto, ou bloco. No caso acima, por exemplo, o `print` na linha 4 é executado caso a avaliação da linha 3 seja verdadeira, e sua indentação indica \"consequência\" da linha 3. Já o `print` na linha 6 é executado como \"consequência\" da linha 5. Em muitas linguagens de programação usamos esta convenção para manter nosso código mais organizado e legível. Em *Python*, entretanto, esta estruturação faz parte da linguagem e deve ser obrigatoriamente seguida. "
   ]
  },
  {
   "cell_type": "markdown",
   "metadata": {},
   "source": [
    "Perceba que seguir padrões de indentação facilita a compreensão do código especialmente em casos em que se encontra aninhado (em hierarquia), como é o caso da célula abaixo. Neste caso queremos testar mais de uma condição, e uma possível solução é aninhar expressões condicionais `if-else`. Veja como exemplo este questionário:"
   ]
  },
  {
   "cell_type": "code",
   "execution_count": 49,
   "metadata": {},
   "outputs": [
    {
     "name": "stdout",
     "output_type": "stream",
     "text": [
      "Qual nota você daria para este minicurso até agora? (0-5)4\n",
      "=D\n"
     ]
    }
   ],
   "source": [
    "nota = float( input(\"Qual nota você daria para este minicurso até agora? (0-5)\") )\n",
    "\n",
    "if nota >=5:\n",
    "    print(\"xD\")\n",
    "else:\n",
    "    if nota >= 4:\n",
    "        print(\"=D\")\n",
    "    else:   # entra no else se a nota for menor que 4\n",
    "        if nota >= 3:\n",
    "            print(\"=]\")\n",
    "        else:   # entra neste else se a nota for menor que 3\n",
    "            if nota >= 2:\n",
    "                print(\"=|\")\n",
    "            else: # entra neste else se a nota for menor que 2\n",
    "                if nota >= 1:\n",
    "                    print(\"=[\")\n",
    "                else: # entra neste else se a nota for menor que 1\n",
    "                    print(\"=`(\")"
   ]
  },
  {
   "cell_type": "markdown",
   "metadata": {},
   "source": [
    "Este código ficou meio confuso, com muitos níveis de indentação. Felizmente temos uma outra maneira mais clara de testar estas 5 condições. A palavra `elif` \"combina\" um `else` com um `if`:"
   ]
  },
  {
   "cell_type": "code",
   "execution_count": 50,
   "metadata": {},
   "outputs": [
    {
     "name": "stdout",
     "output_type": "stream",
     "text": [
      "Qual nota você daria para este minicurso até agora? (0-5)3\n",
      "=]\n"
     ]
    }
   ],
   "source": [
    "nota = float( input(\"Qual nota você daria para este minicurso até agora? (0-5)\") )\n",
    "\n",
    "if nota >=5:\n",
    "    print(\"xD\")\n",
    "    \n",
    "elif nota >= 4:\n",
    "    print(\"=D\")\n",
    "\n",
    "elif nota >= 3:\n",
    "    print(\"=]\")\n",
    "\n",
    "elif nota >= 2:\n",
    "    print(\"=|\")\n",
    "\n",
    "elif nota >= 1:\n",
    "    print(\"=[\")\n",
    "\n",
    "else:\n",
    "    print(\"=`(\")"
   ]
  },
  {
   "cell_type": "markdown",
   "metadata": {},
   "source": [
    "Agora você já consegue resolver o subproblema 2. Mãos à obra!"
   ]
  },
  {
   "cell_type": "code",
   "execution_count": 51,
   "metadata": {
    "collapsed": true
   },
   "outputs": [],
   "source": [
    "# obter o cálculo da média final baseado nas notas das três provas\n",
    "p1= 4.6\n",
    "p2= 8\n",
    "p3= 6\n",
    "\n",
    "mFinal = 0.2*p1 + 0.2*p2 + 0.6*p3"
   ]
  },
  {
   "cell_type": "code",
   "execution_count": 52,
   "metadata": {},
   "outputs": [
    {
     "data": {
      "text/plain": [
       "6.119999999999999"
      ]
     },
     "execution_count": 52,
     "metadata": {},
     "output_type": "execute_result"
    }
   ],
   "source": [
    "mFinal"
   ]
  },
  {
   "cell_type": "code",
   "execution_count": 53,
   "metadata": {},
   "outputs": [
    {
     "name": "stdout",
     "output_type": "stream",
     "text": [
      "MM\n"
     ]
    }
   ],
   "source": [
    "# TODO: usar a média final do aluno para obter sua menção\n",
    "if mFinal >=9:\n",
    "    print(\"SS\")\n",
    "    \n",
    "elif mFinal >= 7:\n",
    "    print(\"MS\")\n",
    "\n",
    "elif mFinal >= 5:\n",
    "    print(\"MM\")\n",
    "\n",
    "elif mFinal >= 3:\n",
    "    print(\"MI\")\n",
    "\n",
    "else:\n",
    "    print(\"II\")"
   ]
  },
  {
   "cell_type": "markdown",
   "metadata": {},
   "source": [
    "Para resolver o subproblema 3 você poderia aplicar manualmente a estrutura condicional que acabou de construir para calcular as menções de todos os alunos da turma, um por um. Entretanto copiar e colar o mesmo código para cada um dos 30 alunos seria extremamente trabalhoso, além de originar um código enorme. Pior: e se você quisesse mudar os critérios para atribuição das menções? Teria que fazer a mesma mudança 30 vezes! \n",
    "\n",
    "Felizmente computadores são extremamente rápidos em tarefas bem definidas e repetitivas, e se enquadram muito bem para resolver este tipo de problema. Vamos aprender a inserir **automação** em nossos programas utilizando **estruturas de repetição**."
   ]
  },
  {
   "cell_type": "markdown",
   "metadata": {},
   "source": [
    "---"
   ]
  },
  {
   "cell_type": "markdown",
   "metadata": {},
   "source": [
    "## 6. Lidando com comandos repetitivos"
   ]
  },
  {
   "cell_type": "markdown",
   "metadata": {},
   "source": [
    "##### A computação te ajuda a não perder festas nos sábados!"
   ]
  },
  {
   "cell_type": "markdown",
   "metadata": {},
   "source": [
    "Você está cursando seu $4^o$ semestre, matriculado(a) em 6 disciplinas e ainda participa de várias atividades complementares na UnB, dentre elas seu projeto de IC. Justamente em uma semana em que você está com a agenda apertada seu professor de Biologia Molecular passou um exercício trabalhoso, que consiste em encontrar a sequência de RNA resultante da transcrição do gene A e depois os aminoácidos resultantes da tradução do RNA. O problema é que o gene é razoavelmente longo, considerando que se trata de um exercício. Eis a sequência da fita molde no sentido 3'->5' do gene A:\n",
    "\n",
    "`\n",
    "GATCCTCCATATACAACGGTATCTCCACCTCAGGTTTAGATCTCAACAACGGAACCATTGCCGACATGAGACAGTTAG\n",
    "GTATCGTCGAGAGTTACAAGCTAAAACGAGCAGTAGTCAGCTCTGCATCTGAAGCCGCTGAAGTTCTACTAAGGGTGG\n",
    "ATAACATCATCCGTGCAAGACCAAGAACCGCCAATAGACAACATATGTAACATATTTAGGATATACCTCGAAAATAAT\n",
    "AAACCGCCACACTGTCATTATTATAATTAGAAACAGAACGCAAAAATTATCCACTATATAATTCAAAGACGCGAAAAA\n",
    "AAAAGAACAACGCGTCATAGAACTTTTGGCAATTCGCGTCACAAATAAATTTTGGCAACTTATGTTTCCTCTTCGAGC\n",
    "AGTACTCGAGCCCTGTCTCAAGAATGTAATAATACCCATCGTAGGTATGGTTAAAGATAGCATCTCCACAACCTCAAA\n",
    "GCTCCTTGCCGAGAGTCGCCCTCCTTTGTCGAGTAATTTTCACTTTTCATATGAGAACTTATTTTCTTATTCTTTACT\n",
    "CTCACATCCTGTAGTGATTGACACTGCAACAGCCACCATCACTAGAAGAACAGAACAATTACTTAATAGAAAAATTAT\n",
    "ATCTTCCTCGAAACGATTTCCTGCTTCCAACATCTACGTATATCAAGAAGCATTCACTTACCATGACACAGCTTCAGA\n",
    "TTTCATTATTGCTGACAGCTACTATATCACTACTCCATCTAGTAGTGGCCACGCCCTATGAGGCATATCCTATCGGAA\n",
    "AACAATACCCCCCAGTGGCAAGAGTCAATGAATCGTTTACATTTCAAATTTCCAATGATACCTATAAATCGTCTGTAG\n",
    "ACAAGACAGCTCAAATAACATACAATTGCTTCGACTTACCGAGCTGGCTTTCGTTTGACTCTAGTTCTAGAACGTTCT\n",
    "CAGGTGAACCTTCTTCTGACTTACTATCTGATGCGAACACCACGTTGTATTTCAATGTAATACTCGAGGGTACGGACT\n",
    "CTGCCGACAGCACGTCTTTGAACAATACATACCAATTTGTTGTTACAAACCGTCCATCCATCTCGCTATCGTCAGATT\n",
    "TCAATCTATTGGCGTTGTTAAAAAACTATGGTTATACTAACGGCAAAAACGCTCTGAAACTAGATCCTAATGAAGTCT\n",
    "TCAACGTGACTTTTGACCGTTCAATGTTCACTAACGAAGAATCCATTGTGTCGTATTACGGACGTTCTCAGTTGTATA\n",
    "ATGCGCCGTTACCCAATTGGCTGTTCTTCGATTCTGGCGAGTTGAAGTTTACTGGGACGGCACCGGTGATAAACTCGG\n",
    "CGATTGCTCCAGAAACAAGCTACAGTTTTGTCATCATCGCTACAGACATTGAAGGATTTTCTGCCGTTGAGGTAGAAT\n",
    "TCGAATTAGTCATCGGGGCTCACCAGTTAACTACCTCTATTCAAAATAGTTTGATAATCAACGTTACTGACACAGGTA\n",
    "ACGTTTCATATGACTTACCTCTAAACTATGTTTATCTCGATGACGATCCTATTTCTTCTGATAAATTGGGTTCTATAA\n",
    "ACTTATTGGATGCTCCAGACTGGGTGGCATTAGATAATGCTACCATTTCCGGGTCTGTCCCAGATGAATTACTCGGTA\n",
    "AGAACTCCAATCCTGCCAATTTTTCTGTGTCCATTTATGATACTTATGGTGATGTGATTTATTTCAACTTCGAAGTTG\n",
    "TCTCCACAACGGATTTGTTTGCCATTAGTTCTCTTCCCAATATTAACGCTACAAGGGGTGAATGGTTCTCCTACTATT\n",
    "TTTTGCCTTCTCAGTTTACAGACTACGTGAATACAAACGTTTCATTAGAGTTTACTAATTCAAGCCAAGACCATGACT\n",
    "GGGTGAAATTCCAATCATCTAATTTAACATTAGCTGGAGAAGTGCCCAAGAATTTCGACAAGCTTTCATTAGGTTTGA\n",
    "AAGCGAACCAAGGTTCACAATCTCAAGAGCTATATTTTAACATCATTGGCATGGATTCAAAGATAACTCACTCAAACC\n",
    "ACAGTGCGAATGCAACGTCCACAAGAAGTTCTCACCACTCCACCTCAACAAGTTCTTACACATCTTCTACTTACACTG\n",
    "CAAAAATTTCTTCTACCTCCGCTGCTGCTACTTCTTCTGCTCCAGCAGCGCTGCCAGCAGCCAATAAAACTTCATCTC\n",
    "ACAATAAAAAAGCAGTAGCAATTGCGTGCGGTGTTGCTATCCCATTAGGCGTTATCCTAGTAGCTCTCATTTGCTTCC\n",
    "TAATATTCTGGAGACGCAGAAGGGAAAATCCAGACGATGAAAACTTACCGCATGCTATTAGTGGACCTGATTTGAATA\n",
    "ATCCTGCAAATAAACCAAATCAAGAAAACGCTACACCTTTGAACAACCCCTTTGATGATGATGCTTCCTCGTACGATG\n",
    "ATACTTCAATAGCAAGAAGATTGGCTGCTTTGAACACTTTGAAATTGGATAACCACTCTGCCACTGAATCTGATATTT\n",
    "CCAGCGTGGATGAAAAGAGAGATTCTCTATCAGGTATGAATACATACAATGATCAGTTCCAATCCCAAAGTAAAGAAG\n",
    "AATTATTAGCAAAACCCCCAGTACAGCCTCCAGAGAGCCCGTTCTTTGACCCACAGAATAGGTCTTCTTCTGTGTATA\n",
    "TGGATAGTGAACCAGCAGTAAATAAATCCTGGCGATATACTGGCAACCTGTCACCAGTCTCTGATATTGTCAGAGACA\n",
    "GTTACGGATCACAAAAAACTGTTGATACAGAAAAACTTTTCGATTTAGAAGCACCAGAGAAGGAAAAACGTACGTCAA\n",
    "GGGATGTCACTATGTCTTCACTGGACCCTTGGAACAGCAATATTAGCCCTTCTCCCGTAAGAAAATCAGTAACACCAT\n",
    "CACCATATAACGTAACGAAGCATCGTAACCGCCACTTACAAAATATTCAAGACTCTCAAAGCGGTAAAAACGGAATCA\n",
    "CTCCCACAACAATGTCAACTTCATCTTCTGACGATTTTGTTCCGGTTAAAGATGGTGAAAATTTTTGCTGGGTCCACT\n",
    "`\n",
    "\n",
    "A avaliação do exercício contará uma porcentagem alta da nota final, e seu professor já avisou que descontará pontos por cada aminoácido errado na sua resposta. Seus colegas de classe pretendem tirar a noite de sábado para resolver o exercício, já que é o único horário que têm disponível. Mas você tinha planos para ir a uma festa. Como resolver este exercício extremamente **repetitivo** de forma rápida e ainda garantir uma boa nota e a sua festa?"
   ]
  },
  {
   "cell_type": "markdown",
   "metadata": {},
   "source": [
    "##### Desenvolvimento"
   ]
  },
  {
   "cell_type": "markdown",
   "metadata": {},
   "source": [
    "O primeiro passo é subdividir o problema. Liste aqui os dois subproblemas que compõem seu exercício\n",
    "1. Função de **transcrição**: obter a sequência de RNAm a partir de DNA; \n",
    "2. Função de **tradução**: obter a sequência de aminoácidos a partir do RNAm."
   ]
  },
  {
   "cell_type": "markdown",
   "metadata": {},
   "source": [
    "### 6.1 Estruturas de repetição: loops"
   ]
  },
  {
   "cell_type": "markdown",
   "metadata": {},
   "source": [
    "**Loops** (em português \"laços de repetição\") são estruturas que garantem que uma parte do código seja repetida várias vezes. No jargão da computação, chamamos cada repetição de um trecho de código de **iteração**. Existem dois tipos fundamentais de loops: (i) ***for* loops** e (ii) ***while* loops**. Por simplicidade por enquanto veremos apenas o primeiro tipo."
   ]
  },
  {
   "cell_type": "markdown",
   "metadata": {},
   "source": [
    "Tente entender o que o código abaixo faz. Em seguida, confirme sua hipótese executando a célula e observando a saída."
   ]
  },
  {
   "cell_type": "code",
   "execution_count": 54,
   "metadata": {},
   "outputs": [
    {
     "name": "stdout",
     "output_type": "stream",
     "text": [
      "Iteração 0\n",
      "Iteração 1\n",
      "Iteração 2\n",
      "Iteração 3\n",
      "Iteração 4\n",
      "Iteração 5\n",
      "Iteração 6\n",
      "Iteração 7\n",
      "Iteração 8\n",
      "Iteração 9\n"
     ]
    }
   ],
   "source": [
    "for i in range(10):\n",
    "    print (\"Iteração \" + str(i) )"
   ]
  },
  {
   "cell_type": "markdown",
   "metadata": {},
   "source": [
    "O que acontece é que quando usamos a estrutura **for** para repetir um trecho de código precisamos utilizar uma **variável de iteração** (no caso acima é a variável `i`, mas poderia ser qualquer outra, como por exemplo `gato`) e uma lista com os elementos que desejamos percorrer. No exemplo acima, `i in range(10)` significa que a variável de iteração  `i`, a cada iteração, assumirá o valor seguinte na lista `range(10)`."
   ]
  },
  {
   "cell_type": "markdown",
   "metadata": {},
   "source": [
    "Teste sua compreensão escrevendo na célula abaixo um loop para somar números de 0 a 10.\n",
    "\n",
    "**Dica:** Utilize uma variável contadora `ctr` (**counter variable**) para armazenar o resultado até cada iteração. Inicialmente ela terá valor zero. A cada iteração você só precisará atualizar o contador somando o número da iteração."
   ]
  },
  {
   "cell_type": "code",
   "execution_count": 55,
   "metadata": {},
   "outputs": [
    {
     "data": {
      "text/plain": [
       "55"
      ]
     },
     "execution_count": 55,
     "metadata": {},
     "output_type": "execute_result"
    }
   ],
   "source": [
    "# TODO: somar números de 0 a 10 (solução = 55)\n",
    "\n",
    "ctr = 0\n",
    "for i in range(11):\n",
    "    ctr = ctr + i\n",
    "    \n",
    "ctr"
   ]
  },
  {
   "cell_type": "markdown",
   "metadata": {},
   "source": [
    "> Strings também podem ser percorridas (*iteradas*) em um loop, usando a mesma sintaxe. Pense em uma String como uma lista de caracteres. Escreva abaixo um loop para transformar em caixa alto ( método `.upper()` ) cada caractere da string na variável `s`, que armazenará seu nome. **Dica**: Utilize uma string auxiliar `r` que armazenará o resultado após cada iteração do loop de forma análoga à situação anterior."
   ]
  },
  {
   "cell_type": "code",
   "execution_count": 56,
   "metadata": {},
   "outputs": [
    {
     "name": "stdout",
     "output_type": "stream",
     "text": [
      "Insira seu nome: pedro\n"
     ]
    },
    {
     "data": {
      "text/plain": [
       "'PEDRO'"
      ]
     },
     "execution_count": 56,
     "metadata": {},
     "output_type": "execute_result"
    }
   ],
   "source": [
    "s = input(\"Insira seu nome: \")\n",
    "r = \"\"\n",
    "for caractere in s:\n",
    "    r = r + caractere.upper()\n",
    "\n",
    "r"
   ]
  },
  {
   "cell_type": "markdown",
   "metadata": {},
   "source": [
    "### 6.2 Funções"
   ]
  },
  {
   "cell_type": "markdown",
   "metadata": {},
   "source": [
    "Funções são como liquidificadores! Inserimos bananas e um copo de leite, ajustamos alguns parâmetros como o tempo de processamento e por fim recebemos uma deliciosa vitamina! E o melhor é que não precisamos entender os mínimos detalhes sobre como os mecanismos internos do aparelho funcionam para fazer nossa vitamina. Nem tampouco precisamos ter construído o liquidificador do zero para poder saboreá-la. Ainda, qualquer que fosse o liquidificador esperaríamos obter algo não muito diferente de uma vitamina, desde que utilizássemos os mesmos ingredientes e regulagens.\n",
    "\n",
    "<img src=\"img/blender_functions.png\">"
   ]
  },
  {
   "cell_type": "markdown",
   "metadata": {},
   "source": [
    "Agora de forma mais sofisticada, funções são construções que **encapsulam** um determinado comportamento que se espera executar múltiplas vezes durante a execução de um programa. São rotinas, que podem ter sido definidas pelo próprio programador ou por outros programadores. No caso do liquidificador, sua \"rotina\" foi definida pelo próprio fabricante. O usuário só precisa saber o que precisa fornecer como **entrada** (*input*) e o que deve esperar receber como **saída** (*output*)."
   ]
  },
  {
   "cell_type": "markdown",
   "metadata": {},
   "source": [
    "Funções facilitam sua vida por dois motivos principais. \n",
    "\n",
    "1. Permitem ao programador **abstrair** computações, sem precisar se preocupar a todo momento sobre os mínimos detalhes de como elas são de fato realizadas. Imagine se você tivesse que se preocupar como uma lista *Python* é criada e armazenada na memória do computador toda vez que você precisasse utilizar uma... Felizmente a função `list()` permite que a rotina de criação de uma lista seja abstraída para você, o que facilita bastante seu aprendizado! \n",
    "\n",
    "2. Permitem **compartilhar** e **reutilizar** código. Você poderia por exemplo construir uma função para resolver seu exercício e encaminhar para seu professor para que ele avalie seu trabalho! Assim ele poderá executar exatamente a mesma rotina que você para chegar à resposta do exercício. Quem sabe isso não te garantirá pontuação extra?\n",
    "\n",
    "Quando criamos (ou **definimos**) uma função escrevemos todas as etapas que devem ser realizadas por ela, bem como as variáveis que ela deve receber (*input*) e o resultado que ela produzirá como saída (*output*). Para executar uma função devemos **invocá-la** ou, em termos menos macabros, chamá-la."
   ]
  },
  {
   "cell_type": "markdown",
   "metadata": {},
   "source": [
    "Vejamos um exemplo de como **definir** uma função. A `funcaoSoma` aceita dois **argumentos** (*input*), realiza a soma e por fim retorna (*output*) o resultado."
   ]
  },
  {
   "cell_type": "code",
   "execution_count": 57,
   "metadata": {
    "collapsed": true
   },
   "outputs": [],
   "source": [
    "def funcaoSoma(n1, n2):\n",
    "    resultado_soma = n1 + n2\n",
    "    return resultado_soma"
   ]
  },
  {
   "cell_type": "markdown",
   "metadata": {},
   "source": [
    "Vamos agora utilizar a `funcaoSoma`. Para isso vamos chamá-la. "
   ]
  },
  {
   "cell_type": "code",
   "execution_count": 58,
   "metadata": {},
   "outputs": [
    {
     "data": {
      "text/plain": [
       "18"
      ]
     },
     "execution_count": 58,
     "metadata": {},
     "output_type": "execute_result"
    }
   ],
   "source": [
    "funcaoSoma(7,11)\n",
    "# ou funcaoSoma(n1=7, n2=11)\n",
    "# ou funcaoSoma(7, n2=11)"
   ]
  },
  {
   "cell_type": "markdown",
   "metadata": {},
   "source": [
    "O que nós fizemos foi executar a rotina definida na função atribuindo as variáveis `n1`e `n2` (**parâmetros**) aos valores 5 e 7 (**argumentos**)."
   ]
  },
  {
   "cell_type": "markdown",
   "metadata": {},
   "source": [
    "Defina abaixo a `funcaoSomaTodos` com parâmetros `n1` e `n2`. Esta função deve retornar a soma de todos os números de `n1` a `n2` (incluindo `n2`)."
   ]
  },
  {
   "cell_type": "code",
   "execution_count": 59,
   "metadata": {},
   "outputs": [],
   "source": [
    "def funcaoSomaTodos(n1,n2):\n",
    "    ctr = 0\n",
    "    for i in range(n1,n2+1):\n",
    "        ctr = ctr + i\n",
    "    return ctr"
   ]
  },
  {
   "cell_type": "code",
   "execution_count": 60,
   "metadata": {
    "collapsed": true
   },
   "outputs": [],
   "source": [
    "# Este código verifica se sua função funciona corretamente\n",
    "assert( funcaoSomaTodos(7,11)==45 )"
   ]
  },
  {
   "cell_type": "markdown",
   "metadata": {},
   "source": [
    "> Funções possuem **escopo** próprio. O que isso significa é que as variáveis definidas e operadas dentro de uma função somente são visíveis dentro dela. Veja o exemplo abaixo. A variável `a` dentro da função `foo`, apesar de ter o mesmo nome que a **variável global** `a`, referencia outro valor neste contexto. A variável `b` só existe dentro do escopo da função `foo`, de forma que chamá-la fora do escopo gera um erro. A variável `c` é definida globalmente, e como não há nenhuma outra variável `c` definida dentro da função `foo`, seu valor global é assumido. Pense em escopos como uma hierarquia de contextos.  "
   ]
  },
  {
   "cell_type": "code",
   "execution_count": 61,
   "metadata": {},
   "outputs": [
    {
     "name": "stdout",
     "output_type": "stream",
     "text": [
      "variável 'a' fora da função:  10\n",
      "variável 'c' fora da função:  30\n",
      "variável 'a' dentro da função:  1\n",
      "variável 'b' dentro da função:  2\n",
      "variável 'c' dentro da função:  30\n",
      "variável 'a' fora da função novamente:  10\n",
      "variável 'b' fora da função 1\n"
     ]
    }
   ],
   "source": [
    "a = 10\n",
    "c = 30\n",
    "\n",
    "print(\"variável 'a' fora da função: \", a)\n",
    "print(\"variável 'c' fora da função: \", c)\n",
    "\n",
    "def foo(a,b): # definindo a função foo com parâmetros a e b\n",
    "    print(\"variável 'a' dentro da função: \", a)\n",
    "    print(\"variável 'b' dentro da função: \", b)\n",
    "    print(\"variável 'c' dentro da função: \", c)\n",
    "    return\n",
    "\n",
    "foo(1,2) # chamando a função foo com a=1 e b=2\n",
    "print(\"variável 'a' fora da função novamente: \", a)\n",
    "print(\"variável 'b' fora da função\", b)"
   ]
  },
  {
   "cell_type": "markdown",
   "metadata": {},
   "source": [
    "Agora que você já aprendeu o básico sobre *loops* e *funções* vamos voltar ao exercício de BioMol. Que tal escrever uma função para realizar cada um dos subproblemas individualmente? Dessa forma, além de você poder ajudar seus colegas, ainda mantém seu código mais organizado. O mapa `codigoGenetico` abaixo será util para converter trincas de bases nos aminoácidos. **Dica**: Para facilitar seu trabalho, construa também um mapa de bases complementares `complementoBase`."
   ]
  },
  {
   "cell_type": "code",
   "execution_count": 62,
   "metadata": {
    "collapsed": true
   },
   "outputs": [],
   "source": [
    "codigoGenetico =  {\n",
    "    'GCA': 'Ala', \n",
    "    'GCC': 'Ala',\n",
    "    'GCG': 'Ala',\n",
    "    'GCU': 'Ala',\n",
    "    \n",
    "    'AGA': 'Arg',\n",
    "    'AGG': 'Arg',\n",
    "    'CGA': 'Arg',\n",
    "    'CGC': 'Arg',\n",
    "    'CGG': 'Arg',\n",
    "    'CGU': 'Arg',\n",
    "    \n",
    "    'GAC': 'Asp',\n",
    "    'GAU': 'Asp',\n",
    "    \n",
    "    'AAC': 'Asn',\n",
    "    'AAU': 'Asn',\n",
    "    \n",
    "    'UGC': 'Cys',\n",
    "    'UGU': 'Cys',\n",
    "    \n",
    "    'GAA': 'Glu',\n",
    "    'GAG': 'Glu',\n",
    "    \n",
    "    'CAA': 'Gln',\n",
    "    'CAG': 'Gln',\n",
    "    \n",
    "    'GGA': 'Gly',\n",
    "    'GGC': 'Gly',\n",
    "    'GGG': 'Gly',\n",
    "    'GGU': 'Gly',\n",
    "    \n",
    "    'CAC': 'His',\n",
    "    'CAU': 'His',\n",
    "    \n",
    "    'AUA': 'Ile',\n",
    "    'AUC': 'Ile',\n",
    "    'AUU': 'Ile',\n",
    "    \n",
    "    'UUA': 'Leu',\n",
    "    'UUG': 'Leu',\n",
    "    'CUA': 'Leu',\n",
    "    'CUC': 'Leu',\n",
    "    'CUG': 'Leu',\n",
    "    'CUU': 'Leu',\n",
    "    \n",
    "    'AAA': 'Lys',\n",
    "    'AAG': 'Lys',\n",
    "    \n",
    "    'AUG': 'Met',\n",
    "    \n",
    "    'UUC': 'Phe',\n",
    "    'UUU': 'Phe',\n",
    "    \n",
    "    'CCA': 'Pro',\n",
    "    'CCC': 'Pro',\n",
    "    'CCG': 'Pro',\n",
    "    'CCU': 'Pro',\n",
    "    \n",
    "    'AGC': 'Ser',\n",
    "    'AGU': 'Ser',\n",
    "    'UCA': 'Ser',\n",
    "    'UCC': 'Ser',\n",
    "    'UCG': 'Ser',\n",
    "    'UCU': 'Ser',\n",
    "    \n",
    "    'ACA': 'Thr',\n",
    "    'ACC': 'Thr',\n",
    "    'ACG': 'Thr',\n",
    "    'ACU': 'Thr',\n",
    "    \n",
    "    'UGG': 'Trp',\n",
    "    \n",
    "    'UAC': 'Tyr',\n",
    "    'UAU': 'Tyr',\n",
    "    \n",
    "    'GUA': 'Val',\n",
    "    'GUC': 'Val',\n",
    "    'GUG': 'Val',\n",
    "    'GUU': 'Val',\n",
    "    \n",
    "    'UAA': 'stop',\n",
    "    'UAG': 'stop',\n",
    "    'UGA': 'stop'\n",
    "    \n",
    "}\n",
    "\n",
    "complementoBase = {\n",
    "    'A':'U',\n",
    "    'G':'C',\n",
    "    'T':'A',\n",
    "    'C':'G'\n",
    "}"
   ]
  },
  {
   "cell_type": "code",
   "execution_count": 63,
   "metadata": {
    "collapsed": true
   },
   "outputs": [],
   "source": [
    "# Escreva as funções aqui\n",
    "# complementoBase e codigoGenetico estão em escopo GLOBAL!!!\n",
    "\n",
    "def transcricao(dna):\n",
    "    rna = \"\" # Esta string armazenará a sequência de RNA\n",
    "    for b in dna: # A cada iteração (base nitrogenada) adicionamos um complemento da base do DNA ao RNA\n",
    "        rna = rna + complementoBase[b]\n",
    "    return rna\n",
    "\n",
    "def traducao(rna):\n",
    "    aminos = \"\" # Esta string armazenará a cadeia de aminoácidos\n",
    "    \n",
    "    for i in range( len(rna)//3 ):\n",
    "        # A variável ponteiro armazena o índice do primeiro elemento da trinca de cada iteração\n",
    "        ponteiro = i*3 \n",
    "        \n",
    "        # Na iteração, queremos um slice do primeiro elemento da trinca da iteração até o terceiro depois dele\n",
    "        trinca = rna[ ponteiro : ponteiro+3 ] \n",
    "        \n",
    "        # Agora decodificamos cada trinca com o codigoGenetico\n",
    "        aminos = aminos + codigoGenetico[trinca]\n",
    "        \n",
    "    \n",
    "    return aminos"
   ]
  },
  {
   "cell_type": "code",
   "execution_count": 64,
   "metadata": {},
   "outputs": [
    {
     "data": {
      "text/plain": [
       "'UCUCCUGAAGGUAACGGU'"
      ]
     },
     "execution_count": 64,
     "metadata": {},
     "output_type": "execute_result"
    }
   ],
   "source": [
    "# A função de transcrição está correta?\n",
    "dna = \"AGAGGACTTCCATTGCCA\"\n",
    "\n",
    "transcricao(dna)"
   ]
  },
  {
   "cell_type": "code",
   "execution_count": 65,
   "metadata": {},
   "outputs": [
    {
     "data": {
      "text/plain": [
       "'IleAla'"
      ]
     },
     "execution_count": 65,
     "metadata": {},
     "output_type": "execute_result"
    }
   ],
   "source": [
    "# A função de transcrição está correta?\n",
    "rna = 'AUUGCC'\n",
    "\n",
    "traducao(rna)"
   ]
  },
  {
   "cell_type": "code",
   "execution_count": 66,
   "metadata": {},
   "outputs": [
    {
     "data": {
      "text/plain": [
       "'SerProGluGlyAsnGly'"
      ]
     },
     "execution_count": 66,
     "metadata": {},
     "output_type": "execute_result"
    }
   ],
   "source": [
    "# Podemos invocar a função de tradução usando como entrada o resultado da transcrição!\n",
    "\n",
    "dna = \"AGAGGACTTCCATTGCCA\"\n",
    "rna = transcricao(dna)\n",
    "traducao(rna)"
   ]
  },
  {
   "cell_type": "code",
   "execution_count": 67,
   "metadata": {},
   "outputs": [
    {
     "data": {
      "text/plain": [
       "'SerProGluGlyAsnGly'"
      ]
     },
     "execution_count": 67,
     "metadata": {},
     "output_type": "execute_result"
    }
   ],
   "source": [
    "# As chamadas na célula acima podem ser ainda simplificadas:\n",
    "dna = \"AGAGGACTTCCATTGCCA\"\n",
    "traducao( transcricao(dna) )"
   ]
  },
  {
   "cell_type": "markdown",
   "metadata": {},
   "source": [
    "Usando o exemplo do exercício,"
   ]
  },
  {
   "cell_type": "code",
   "execution_count": 68,
   "metadata": {
    "collapsed": true
   },
   "outputs": [],
   "source": [
    "# As tres aspas duplas (ou poderiam ser tres simples) são uma string literal\n",
    "# Elas são uteis para quando queremos construir uma string com quebra de linhas\n",
    "# Neste caso, precisamos depois remover as quebras de linhas, com a função replace\n",
    "dna = \"\"\"GATCCTCCATATACAACGGTATCTCCACCTCAGGTTTAGATCTCAACAACGGAACCATTGCCGACATGAGACAGTTAG\n",
    "GTATCGTCGAGAGTTACAAGCTAAAACGAGCAGTAGTCAGCTCTGCATCTGAAGCCGCTGAAGTTCTACTAAGGGTGG\n",
    "ATAACATCATCCGTGCAAGACCAAGAACCGCCAATAGACAACATATGTAACATATTTAGGATATACCTCGAAAATAAT\n",
    "AAACCGCCACACTGTCATTATTATAATTAGAAACAGAACGCAAAAATTATCCACTATATAATTCAAAGACGCGAAAAA\n",
    "AAAAGAACAACGCGTCATAGAACTTTTGGCAATTCGCGTCACAAATAAATTTTGGCAACTTATGTTTCCTCTTCGAGC\n",
    "AGTACTCGAGCCCTGTCTCAAGAATGTAATAATACCCATCGTAGGTATGGTTAAAGATAGCATCTCCACAACCTCAAA\n",
    "GCTCCTTGCCGAGAGTCGCCCTCCTTTGTCGAGTAATTTTCACTTTTCATATGAGAACTTATTTTCTTATTCTTTACT\n",
    "CTCACATCCTGTAGTGATTGACACTGCAACAGCCACCATCACTAGAAGAACAGAACAATTACTTAATAGAAAAATTAT\n",
    "ATCTTCCTCGAAACGATTTCCTGCTTCCAACATCTACGTATATCAAGAAGCATTCACTTACCATGACACAGCTTCAGA\n",
    "TTTCATTATTGCTGACAGCTACTATATCACTACTCCATCTAGTAGTGGCCACGCCCTATGAGGCATATCCTATCGGAA\n",
    "AACAATACCCCCCAGTGGCAAGAGTCAATGAATCGTTTACATTTCAAATTTCCAATGATACCTATAAATCGTCTGTAG\n",
    "ACAAGACAGCTCAAATAACATACAATTGCTTCGACTTACCGAGCTGGCTTTCGTTTGACTCTAGTTCTAGAACGTTCT\n",
    "CAGGTGAACCTTCTTCTGACTTACTATCTGATGCGAACACCACGTTGTATTTCAATGTAATACTCGAGGGTACGGACT\n",
    "CTGCCGACAGCACGTCTTTGAACAATACATACCAATTTGTTGTTACAAACCGTCCATCCATCTCGCTATCGTCAGATT\n",
    "TCAATCTATTGGCGTTGTTAAAAAACTATGGTTATACTAACGGCAAAAACGCTCTGAAACTAGATCCTAATGAAGTCT\n",
    "TCAACGTGACTTTTGACCGTTCAATGTTCACTAACGAAGAATCCATTGTGTCGTATTACGGACGTTCTCAGTTGTATA\n",
    "ATGCGCCGTTACCCAATTGGCTGTTCTTCGATTCTGGCGAGTTGAAGTTTACTGGGACGGCACCGGTGATAAACTCGG\n",
    "CGATTGCTCCAGAAACAAGCTACAGTTTTGTCATCATCGCTACAGACATTGAAGGATTTTCTGCCGTTGAGGTAGAAT\n",
    "TCGAATTAGTCATCGGGGCTCACCAGTTAACTACCTCTATTCAAAATAGTTTGATAATCAACGTTACTGACACAGGTA\n",
    "ACGTTTCATATGACTTACCTCTAAACTATGTTTATCTCGATGACGATCCTATTTCTTCTGATAAATTGGGTTCTATAA\n",
    "ACTTATTGGATGCTCCAGACTGGGTGGCATTAGATAATGCTACCATTTCCGGGTCTGTCCCAGATGAATTACTCGGTA\n",
    "AGAACTCCAATCCTGCCAATTTTTCTGTGTCCATTTATGATACTTATGGTGATGTGATTTATTTCAACTTCGAAGTTG\n",
    "TCTCCACAACGGATTTGTTTGCCATTAGTTCTCTTCCCAATATTAACGCTACAAGGGGTGAATGGTTCTCCTACTATT\n",
    "TTTTGCCTTCTCAGTTTACAGACTACGTGAATACAAACGTTTCATTAGAGTTTACTAATTCAAGCCAAGACCATGACT\n",
    "GGGTGAAATTCCAATCATCTAATTTAACATTAGCTGGAGAAGTGCCCAAGAATTTCGACAAGCTTTCATTAGGTTTGA\n",
    "AAGCGAACCAAGGTTCACAATCTCAAGAGCTATATTTTAACATCATTGGCATGGATTCAAAGATAACTCACTCAAACC\n",
    "ACAGTGCGAATGCAACGTCCACAAGAAGTTCTCACCACTCCACCTCAACAAGTTCTTACACATCTTCTACTTACACTG\n",
    "CAAAAATTTCTTCTACCTCCGCTGCTGCTACTTCTTCTGCTCCAGCAGCGCTGCCAGCAGCCAATAAAACTTCATCTC\n",
    "ACAATAAAAAAGCAGTAGCAATTGCGTGCGGTGTTGCTATCCCATTAGGCGTTATCCTAGTAGCTCTCATTTGCTTCC\n",
    "TAATATTCTGGAGACGCAGAAGGGAAAATCCAGACGATGAAAACTTACCGCATGCTATTAGTGGACCTGATTTGAATA\n",
    "ATCCTGCAAATAAACCAAATCAAGAAAACGCTACACCTTTGAACAACCCCTTTGATGATGATGCTTCCTCGTACGATG\n",
    "ATACTTCAATAGCAAGAAGATTGGCTGCTTTGAACACTTTGAAATTGGATAACCACTCTGCCACTGAATCTGATATTT\n",
    "CCAGCGTGGATGAAAAGAGAGATTCTCTATCAGGTATGAATACATACAATGATCAGTTCCAATCCCAAAGTAAAGAAG\n",
    "AATTATTAGCAAAACCCCCAGTACAGCCTCCAGAGAGCCCGTTCTTTGACCCACAGAATAGGTCTTCTTCTGTGTATA\n",
    "TGGATAGTGAACCAGCAGTAAATAAATCCTGGCGATATACTGGCAACCTGTCACCAGTCTCTGATATTGTCAGAGACA\n",
    "GTTACGGATCACAAAAAACTGTTGATACAGAAAAACTTTTCGATTTAGAAGCACCAGAGAAGGAAAAACGTACGTCAA\n",
    "GGGATGTCACTATGTCTTCACTGGACCCTTGGAACAGCAATATTAGCCCTTCTCCCGTAAGAAAATCAGTAACACCAT\n",
    "CACCATATAACGTAACGAAGCATCGTAACCGCCACTTACAAAATATTCAAGACTCTCAAAGCGGTAAAAACGGAATCA\n",
    "CTCCCACAACAATGTCAACTTCATCTTCTGACGATTTTGTTCCGGTTAAAGATGGTGAAAATTTTTGCTGGGTCCACT\"\"\".replace(\"\\n\",'')"
   ]
  },
  {
   "cell_type": "markdown",
   "metadata": {},
   "source": [
    "Então, para fazer a tradução do genoma acima:"
   ]
  },
  {
   "cell_type": "code",
   "execution_count": 69,
   "metadata": {},
   "outputs": [
    {
     "data": {
      "text/plain": [
       "'LeuGlyGlyIleCysCysHisArgGlyGlyValGlnIlestopSerCysCysLeuGlyAsnGlyCysThrLeuSerIleHisSerSerSerGlnCysSerIleLeuLeuValIleSerArgAspValAspPheGlyAspPheLysMetIleProThrTyrCysSerArgHisValLeuValLeuGlyGlyTyrLeuLeuTyrThrLeuTyrLysSerTyrMetGluLeuLeuLeuPheGlyGlyValThrValIleIleLeuIlePheValLeuArgPhestopstopValIleTyrstopValSerAlaLeuPhePheSerCysCysAlaValSerstopLysProLeuSerAlaValPheIlestopAsnArgstopIleGlnArgArgSerSerSerstopAlaArgAspArgValLeuThrLeuLeuTrpValAlaSerIleProIleSerIleValGluValLeuGluPheArgGlyThrAlaLeuSerGlyArgLysGlnLeuIleLysSerGluLysTyrThrLeuGlustopLysAsnLysLysstopGluCysArgThrSerLeuThrValThrLeuSerValValValIlePheLeuSerCysstopstopIleIlePheLeuIlestopLysGluLeuCysstopArgThrLysValValAspAlaTyrSerSerSerstopValAsnGlyThrValSerLysSerLysValIleThrThrValAspAspIleValMetArgstopIleIleThrGlyAlaGlyTyrSerValstopAspSerLeuLeuLeuTrpGlyValThrValLeuSerTyrLeuAlaAsnValLysPheLysGlyTyrTyrGlyTyrLeuAlaAspIleCysSerValGluPheIleValCysstopArgSerstopMetAlaArgProLysAlaAsnstopAspGlnAspLeuAlaArgValHisLeuGluGluAspstopMetIleAspTyrAlaCysGlyAlaThrstopSerTyrIleMetSerSerHisAlastopAspGlyCysArgAlaGluThrCysTyrValTrpLeuAsnAsnAsnValTrpGlnValGlyArgAlaIleAlaValstopSerstopIleThrAlaThrIlePhestopTyrGlnTyrAspCysArgPheCysGluThrLeuIlestopAspTyrPheArgSerCysThrGluAsnTrpGlnValThrSerAspCysPheLeuGlyAsnThrAlastopCysLeuGlnGluSerThrTyrTyrAlaAlaMetGlystopProThrArgSerstopAspArgSerThrSerAsnAspProAlaValAlaThrIlestopAlaAlaAsnGluValPheValArgCysGlnAsnSerSerSerAspValCysAsnPheLeuLysAspGlyAsnSerIleLeuSerLeuIleSerSerProGluTrpSerIleAspGlyAspLysPheTyrGlnThrIleSerCysAsnAspCysValHisCysLysValTyrstopMetGluIlestopTyrLysstopSerTyrCysstopAspLysGluAspTyrLeuThrGlnAspIlestopIleThrTyrGluValstopProThrValIleTyrTyrAspGlyLysGlyProAspArgValTyrLeuMetSerHisSerstopGlystopAspGlystopLysAspThrGlyLysTyrTyrGluTyrHisTyrThrLysstopSerstopSerPheAsnArgGlyValAlastopThrAsnGlyAsnGlnGluLysGlyTyrAsnCysAspValProHisLeuProArgGlystopstopLysThrGluGluSerAsnValstopCysThrTyrValCysLysValIleSerAsnAspstopValArgPheTrpTyrstopProThrLeuArgLeuValAspstopIleValIleAspLeuPheThrGlySerstopSerCysSerLysValIleGlnThrPheAlaTrpPheGlnValLeuGluPheSerIlestopAsnCysSerAsnArgThrstopValSerIleGlustopValTrpCysHisAlaTyrValAlaGlyValLeuGlnGluTrpstopGlyGlyValValGlnGluCysValGluAspGluCysAspValPheLysGluAspGlyGlyAspAspAspGluGluAspGluValValAlaThrValValGlyTyrPheGluValGluCysTyrPhePheValIleValAsnAlaArgHisAsnAspArgValIleArgAsnArgIleIleGluSerLysArgArgIleIleArgProLeuArgLeuProPhestopValCysTyrPhestopMetAlaTyrAspAsnHisLeuAspstopThrTyrstopAspValTyrLeuValstopPhePheCysAspValGluThrCysTrpGlyAsnTyrTyrTyrGluGlyAlaCysTyrTyrGluValIleValLeuLeuThrAspGluThrCysGluThrLeuThrTyrTrpstopAspGlyAspLeuAspTyrLysGlyArgThrTyrPheSerLeustopGluIleValHisThrTyrValCysTyrstopSerArgLeuGlyPheHisPhePheLeuIleIleValLeuGlyValMetSerGluValSerArgAlaArgAsnTrpValSerTyrProGluGluAspThrTyrThrTyrHisLeuValValIleTyrLeuGlyProLeuTyrAspArgTrpThrValValArgAspTyrAsnSerLeuCysGlnCysLeuValPhePheAspAsnTyrValPheLeuLysSerstopIlePheValValSerSerPheLeuHisAlaValProTyrSerAspThrGluValThrTrpGluProCysArgTyrAsnArgGluGluGlyIleLeuLeuValIleValValValValTyrCysIleAlaSerstopHisTrpArgstopMetPheTyrLysPhestopGluPheArgHisPheCysLeuSerGluGlyValValThrValGluValGluAspCysstopAsnLysAlaAsnPheTyrHisPhestopLysArgProArgstop'"
      ]
     },
     "execution_count": 69,
     "metadata": {},
     "output_type": "execute_result"
    }
   ],
   "source": [
    "traducao( transcricao(dna) )"
   ]
  },
  {
   "cell_type": "markdown",
   "metadata": {},
   "source": [
    "---"
   ]
  },
  {
   "cell_type": "markdown",
   "metadata": {},
   "source": [
    "## 7. Considerações Finais"
   ]
  },
  {
   "cell_type": "markdown",
   "metadata": {},
   "source": [
    "Os exemplos apresentados nesta aula serviram para mostrar que está ao seu alcance modelar um problema real em biologia usando uma linguagem de computação de alto nível como *Python*. Entretanto até agora apenas utilizamos *Python* puro, ou seja, apenas funcionalidades que estão incluídas no **núcleo** da linguagem. Pense em *Python* puro como um kit básico de lego, que somente contém os clássicos blocos montáveis em várias cores. É possível construir incríveis estruturas com eles, é verdade. Mas na prática, quando queremos agilidade no desenvolvimento de nossas aplicações quase nunca \"partimos do zero\". Recorremos a pedaços de código pronto (desenvolvidos por outros programadores), que já implementam bem algumas das funcionalidades básicas que desejamos incluir na aplicação. Estas funcionalidades normalmente são incluídas como **Bibliotecas**, **pacotes** e **módulos**. A biblioteca *Python-StarWars* abaixo, por exemplo, já fornece prontas peças de *stormtroopers*, *droids*, *wookies* e outros elementos indispensáveis para brincar de *Star Wars*. Imagine se você precisasse construir cada um dos elementos a partir do lego clássico para começar a brincar..."
   ]
  },
  {
   "cell_type": "markdown",
   "metadata": {},
   "source": [
    "<img src=\"img/lego_libraries.png\" >"
   ]
  },
  {
   "cell_type": "markdown",
   "metadata": {},
   "source": [
    "Veja uma lista de algumas bibliotecas e pacotes potencialmente interessantes para um biólogo:\n",
    "* [Biopython](http://biopython.org/) com funcionalidades específicas para aplicações em biologia molecular computacional, na **bioinformática**;\n",
    "* [Numpy](http://www.numpy.org/) para computação científica, com representações e operações otimizadas sobre objetos matemáticos;\n",
    "* [Pandas](http://pandas.pydata.org/) para representação de *Data frames* e análise de dados;\n",
    "* [Matplotlib](https://matplotlib.org/) para construção de figuras (visualização de dados);\n",
    "* [Statsmodels](http://www.statsmodels.org/stable/index.html) para trabalhar com modelos estatísticos;\n",
    "* [ScikitLearn](http://scikit-learn.org/stable/) para trabalhar com algoritmos de aprendizado de máquina;\n",
    "* [Networkx](https://networkx.github.io/) para construir modelos em redes complexas;\n",
    "* [ArcPy](http://desktop.arcgis.com/en/arcmap/10.3/analyze/arcpy/what-is-arcpy-.htm) é um pacote para automação de tarefas de análise e geração de mapas em ArcGis;\n",
    "* [Matplotlib Basemap](https://matplotlib.org/basemap/) é um conjunto de ferramentas para plotar mapas em python, utilizando como base a *Matplotlib*;\n",
    "* [Pygbif](http://pygbif.readthedocs.io/en/latest/) é um cliente *Python* que facilita o acesso a dados de ocorrência de espécies no [GBIF](https://www.gbif.org/) (Global Biodiversity Information Facility).\n",
    "\n",
    "entre muitos outros..."
   ]
  }
 ],
 "metadata": {
  "kernelspec": {
   "display_name": "Python 3",
   "language": "python",
   "name": "python3"
  },
  "language_info": {
   "codemirror_mode": {
    "name": "ipython",
    "version": 3
   },
   "file_extension": ".py",
   "mimetype": "text/x-python",
   "name": "python",
   "nbconvert_exporter": "python",
   "pygments_lexer": "ipython3",
   "version": "3.6.3"
  }
 },
 "nbformat": 4,
 "nbformat_minor": 2
}
