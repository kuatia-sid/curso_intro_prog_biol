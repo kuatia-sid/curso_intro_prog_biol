{
 "cells": [
  {
   "cell_type": "markdown",
   "metadata": {},
   "source": [
    "<div class=\"row\">\n",
    "  <div class=\"col-xs-3 col-xs-offset-2\" style=\"text-align: center; margin-top: 10px;\">\n",
    "      <a href=\"http://www.lncc.br/eventoSeminario/eventoconsultar.php?vMenu=4&idt_evento=1758&vAno=2018\" style=\"text-decoration: none;\" >\n",
    "          <span style=\"font-size: 23px; color: #507786; \">Programa de Verão</span> <br />\n",
    "          <span style=\"font-size: 22px; font-weight: bold;\">LNCC</span>\n",
    "      </a>\n",
    "  </div>\n",
    "\n",
    "  <div class=\"col-xs-3\" style=\"margin-top: 14px;\">\n",
    "  <a href=\"http://www.lncc.br\" target=\"_blank\"><img src=\"img/lncc.png\" width=180></a>\n",
    "  </div>\n",
    "</div>"
   ]
  },
  {
   "cell_type": "markdown",
   "metadata": {},
   "source": [
    "## <center>Programação de Computadores para Estudantes de Biologia</center>\n",
    "###  <center>Uma Introdução Prática</center>\n",
    "\n",
    "---\n",
    "## <center>Aula 2: O DNA na era do Big Data</center>\n",
    "##### <center>Instrutores: <a href=\"https://pedrosiracusa.github.io\" target=\"_blank\">Pedro C. de Siracusa</a> & <a href=\"http://lattes.cnpq.br/4351493119966081\" target=\"_blank\">Yasmmin C. Martins</a></center>\n",
    "##### <center>Data: Fev 2018</center>"
   ]
  },
  {
   "cell_type": "markdown",
   "metadata": {},
   "source": [
    "##### Contextualização"
   ]
  },
  {
   "cell_type": "markdown",
   "metadata": {},
   "source": [
    "Você já deve ter ouvido falar que estamos vivendo na era do \"*Big Data*\", um termo que se refere ao enorme conjunto de dados sendo produzido pela humanidade em taxa explosiva, que supera muito nossa capacidade atual para processá-lo, armazená-lo e analisá-lo. Dentre os muitos desafios que emergem deste conceito um se refere ao armazenamento de dados. Atualmente o meio mais comum de armazenar dados digitalmente é através de dispositivos eletromagnéticos, principalmente discos rígidos (HDDs), embora discos de estado sólido (SSDs) sejam emergentes no mercado consumidor. Discos rígidos possuem em sua superfície minúsculas regiões magnéticas que podem ser **magnetizadas** (bit 1) ou **desmagnetizadas** (bit 0) para armazenar informação **binária**.\n",
    "\n",
    "Embora este meio de armazenamento tem de fato cada dia se tornado mais barato, alternativas de armazenamento mais compactas e de maior capacidade têm sido energicamente buscadas. Você, biólogo, pode se perguntar: \n",
    "\n",
    "\"O DNA armazena um enorme volume de informação de organismos vivos! E se pudéssemos utilizá-lo para armazenar outros tipos de informação também?\" \n",
    "\n",
    "E esta é de fato uma idéia bilionária! Cientistas de *Harvard* recentemente publicaram um magnífico trabalho mostrando como codificar imagens em DNA bacteriano utilizando técnicas de engenharia genética! Se você estiver afiado no assunto pode encarar o paper original publicado pela revista *Nature*, que está referenciado abaixo (se você achou o texto muito complexo ou ainda não conhece o *Sci-Hub* leia este [texto de divulgação](https://qz.com/1026964/scientists-used-crispr-gene-editing-to-store-images-in-the-dna-of-living-bacteria/) no lugar).\n",
    "\n",
    "**Obs**: Se você tiver curiosidade veja rapidamente a seção dos métodos do artigo original. Adivinhe qual foi a linguagem usada para fazer a codificação da imagem em sequências de DNA? =]"
   ]
  },
  {
   "cell_type": "markdown",
   "metadata": {},
   "source": [
    "> Shipman, S. L., Nivala, J., Macklis, J. D., & Church, G. M. (2017). CRISPR–Cas encoding of a digital movie into the genomes of a population of living bacteria. https://doi.org/10.1038/nature23017 "
   ]
  },
  {
   "cell_type": "markdown",
   "metadata": {},
   "source": [
    "A página [*Pictoline*](https://www.facebook.com/pictoline/) produziu esta ilustração fantástica resumindo como foi feito o trabalho."
   ]
  },
  {
   "cell_type": "markdown",
   "metadata": {
    "collapsed": true
   },
   "source": [
    "<img src=\"img/bacteria_dna_storage.jpg\" />"
   ]
  },
  {
   "cell_type": "markdown",
   "metadata": {},
   "source": [
    "---"
   ]
  },
  {
   "cell_type": "markdown",
   "metadata": {},
   "source": [
    "##### Desenvolvimento: \n",
    "#### O DNA de Einstein"
   ]
  },
  {
   "cell_type": "markdown",
   "metadata": {},
   "source": [
    "Inspirado no estudo acima, você escreverá um programa para codificar (e decodificar) uma imagem de *Albert Einstein* em uma sequência de DNA."
   ]
  },
  {
   "cell_type": "markdown",
   "metadata": {},
   "source": [
    "<img src=\"einstein.jpg\" />"
   ]
  },
  {
   "cell_type": "markdown",
   "metadata": {},
   "source": [
    "A imagem possui 150x150 pixels em escala de cinza, o que significa que cada pixel está associado a um valor entre 0 e 255. Caso o pixel tenha valor 0 ele possui cor preta, e caso tenha valor 255 ele possui cor branca. Cores intermediárias são variações mais claras e mais escuras de cinza."
   ]
  },
  {
   "cell_type": "markdown",
   "metadata": {},
   "source": [
    "## 1. Mudança de base"
   ]
  },
  {
   "cell_type": "markdown",
   "metadata": {},
   "source": [
    "O primeiro passo será encontrar uma forma de codificar o valor de cada pixel (256 valores possíveis) em um códon, ou trinca de bases. Além disso, como existem 4 possíveis bases nitrogenadas (A, C, G e T) vamos adotar um **sistema numérico de base 4**. Diferente do sistema decimal (base 10), em que 10 dígitos diferentes (0-9) são utilizados para compor números (por exemplo, 63), um sistema de base 4 utiliza apenas 4 dígitos diferentes. O número 63 em base 4 seria escrito como 333 (veja o quadro abaixo). No nosso caso cada \"dígito\" será uma letra correspondente a uma base, e portanto uma tabela de conversão será utilizada."
   ]
  },
  {
   "cell_type": "markdown",
   "metadata": {},
   "source": [
    "<img src=\"img/base4.jpg\" />"
   ]
  },
  {
   "cell_type": "markdown",
   "metadata": {},
   "source": [
    "Para convertermos do sistema decimal para o sistema de base 4, precisamos primeiro construir uma função para realizar [**conversão de base**](https://www.wikiwand.com/pt/Convers%C3%A3o_de_base_num%C3%A9rica), ainda sem fazer o mapeamento para pares de base. "
   ]
  },
  {
   "cell_type": "markdown",
   "metadata": {},
   "source": [
    "A conversão de base decimal para base 4 pode ser feita pelo método de divisões sucessivas:"
   ]
  },
  {
   "cell_type": "markdown",
   "metadata": {},
   "source": [
    "<img src=\"img/div_sucessivas.jpg\" />"
   ]
  },
  {
   "cell_type": "markdown",
   "metadata": {},
   "source": [
    "Já a conversão de base 4 para base decimal é trivial."
   ]
  },
  {
   "cell_type": "markdown",
   "metadata": {},
   "source": [
    "Abaixo crie as funções para conversão de bases nos dois sentidos"
   ]
  },
  {
   "cell_type": "code",
   "execution_count": 51,
   "metadata": {},
   "outputs": [],
   "source": [
    "def converte_10_4(numDecimal):\n",
    "    # Conversão de base decimal para 4\n",
    "    \n",
    "    # se numDecimal > 63 então retorna -1;\n",
    "    \n",
    "    # caso contrário fazer divisões sucessivas;\n",
    "    \n",
    "    # retorna o número em base 4 (uma string)\n",
    "    return numBase4"
   ]
  },
  {
   "cell_type": "code",
   "execution_count": null,
   "metadata": {
    "collapsed": true
   },
   "outputs": [],
   "source": [
    "# Você pode usar este loop para testar sua função\n",
    "for i in range(64):\n",
    "    print(converte_10_4(i))"
   ]
  },
  {
   "cell_type": "markdown",
   "metadata": {},
   "source": [
    "<p style=\"font-size: 0.8em\"><span style=\"color:red\"><strong>Solução</strong></span> Para ver, selecione a área abaixo com o cursor.</p>\n",
    "<code style=\"color:white\">\n",
    "def converte_10_4(numDecimal):\n",
    "    if numDecimal > 63:\n",
    "        return -1\n",
    "    else:\n",
    "        numBase4 = ''\n",
    "        n = numDecimal\n",
    "        for i in range(3):\n",
    "            n1 = n//4\n",
    "            d = str(n - n1*4)\n",
    "            n = n1\n",
    "            numBase4 = d+numBase4\n",
    "    return numBase4\n",
    "</code>"
   ]
  },
  {
   "cell_type": "code",
   "execution_count": 106,
   "metadata": {},
   "outputs": [],
   "source": [
    "def converte_4_10(numBase4):\n",
    "    # Conversão de base 4 (em uma string) para decimal (em um int)\n",
    "    # Retorna o número em base decimal (um int)\n",
    "    return numDecimal"
   ]
  },
  {
   "cell_type": "code",
   "execution_count": null,
   "metadata": {},
   "outputs": [],
   "source": [
    "# Você pode usar este loop para testar sua função (assume que a função converte_10_4 está correta)\n",
    "l=[]\n",
    "for i in range(64):\n",
    "    l = l + [ converte_10_4(i) ]\n",
    "\n",
    "for i in l:\n",
    "    print(converte_4_10(i))"
   ]
  },
  {
   "cell_type": "markdown",
   "metadata": {},
   "source": [
    "<p style=\"font-size: 0.8em\"><span style=\"color:red\"><strong>Solução</strong></span> Para ver, selecione a área abaixo com o cursor.</p>\n",
    "<code style=\"color:white\">\n",
    "def converte_4_10(numBase4):\n",
    "    numDecimal=0\n",
    "    i=2\n",
    "    for d in numBase4:\n",
    "        numDecimal = numDecimal + int(d) * (4**i)\n",
    "        i=i-1\n",
    "    return numDecimal\n",
    "</code>"
   ]
  },
  {
   "cell_type": "markdown",
   "metadata": {},
   "source": [
    "Agora que você já tem as funções de conversão de base, basta fazer o mapeamento dos dígitos para bases nitrogenadas e vice-versa. A tabela de conversão é a seguinte:"
   ]
  },
  {
   "cell_type": "markdown",
   "metadata": {},
   "source": [
    " \n",
    "|BASE |NÚMERO|\n",
    "|-|-|\n",
    "|A|0|\n",
    "|C|1|\n",
    "|G|2|\n",
    "|T|3|"
   ]
  },
  {
   "cell_type": "code",
   "execution_count": null,
   "metadata": {
    "collapsed": true
   },
   "outputs": [],
   "source": [
    "mapa_bases = # Construa aqui seu mapa"
   ]
  },
  {
   "cell_type": "markdown",
   "metadata": {},
   "source": [
    "Por exemplo, seu mapa deve retornar o valor 1 para a base `'C'`:"
   ]
  },
  {
   "cell_type": "code",
   "execution_count": null,
   "metadata": {
    "collapsed": true
   },
   "outputs": [],
   "source": [
    "mapa_bases['C']"
   ]
  },
  {
   "cell_type": "markdown",
   "metadata": {},
   "source": [
    "E também deve retornar a base `'C'` para o valor 1:"
   ]
  },
  {
   "cell_type": "code",
   "execution_count": null,
   "metadata": {
    "collapsed": true
   },
   "outputs": [],
   "source": [
    "mapa_bases[1]"
   ]
  },
  {
   "cell_type": "markdown",
   "metadata": {},
   "source": [
    "Com o mapa funcionando, escreva agora a função `codificaTrinca`, que recebe uma número decimal e retorna sua trinca equivalente. \n",
    "\n",
    "**Dica:** Não repita código! Use outras funções que você já definiu neste exercício."
   ]
  },
  {
   "cell_type": "code",
   "execution_count": null,
   "metadata": {
    "collapsed": true
   },
   "outputs": [],
   "source": [
    "def codificaTrinca(numDecimal, mapa_bases):\n",
    "    # Input: \n",
    "    #    numDecimal : número decimal a ser codificado em uma trinca (int)\n",
    "    #    mapa_bases : mapa de bases, construído acima\n",
    "    # Retorna: trinca de bases(str) \n",
    "    return trinca"
   ]
  },
  {
   "cell_type": "markdown",
   "metadata": {},
   "source": [
    "<p style=\"font-size: 0.8em\"><span style=\"color:red\"><strong>Solução</strong></span> Para ver, selecione a área abaixo com o cursor.</p>\n",
    "<code style=\"color:white\">\n",
    "def codificaTrinca(numDecimal,mapa_bases):\n",
    "    num4 = converte_10_4(numDecimal)\n",
    "    trinca = ''\n",
    "    for digito in num4:\n",
    "        trinca = trinca + mapa_bases[int(digito)]\n",
    "    return trinca\n",
    "</code>"
   ]
  },
  {
   "cell_type": "markdown",
   "metadata": {},
   "source": [
    "E agora a função `decodificaTrinca`, que recebe uma trinca e retorna seu número decimal equivalente."
   ]
  },
  {
   "cell_type": "code",
   "execution_count": null,
   "metadata": {
    "collapsed": true
   },
   "outputs": [],
   "source": [
    "def decodificaTrinca(trinca,mapa_bases):\n",
    "    # Input: \n",
    "    #    trinca : trinca de bases (str)\n",
    "    #    mapa_bases : mapa de bases, construído acima\n",
    "    # Retorna: número decimal (int) \n",
    "    return numDecimal"
   ]
  },
  {
   "cell_type": "markdown",
   "metadata": {},
   "source": [
    "<p style=\"font-size: 0.8em\"><span style=\"color:red\"><strong>Solução</strong></span> Para ver, selecione a área abaixo com o cursor.</p>\n",
    "<code style=\"color:white\">\n",
    "def decodificaTrinca(trinca,mapa_bases):\n",
    "    num4 = ''\n",
    "    for base in trinca:\n",
    "        num4 = num4 + str(mapa_bases[base])\n",
    "    return converte_4_10(num4)\n",
    "</code>"
   ]
  },
  {
   "cell_type": "markdown",
   "metadata": {},
   "source": [
    "Excelente! Com estas duas funções nós já podemos começar a codificar e decodificar trincas das imagens! Mas *\"Houston, we have a problem\"*... Os valores de pixels na imagem vão de 0 a 255, enquanto nosso sistema de trincas só pode codificar $4^3=64$ valores (de 0 a 63). Como resolver este problema?"
   ]
  },
  {
   "cell_type": "markdown",
   "metadata": {},
   "source": [
    "Uma maneira simples e rápida é um tipo de **compressão**. Vamos \"resumir\" os 256 valores existentes em apenas 64. Para isso uma forma é multiplicar o número decimal por 4 para obter o valor \"mais próximo\" ao valor real do pixel. Quando quisermos codificar o pixel, faremos o contrário: dividiremos por 4."
   ]
  },
  {
   "cell_type": "markdown",
   "metadata": {},
   "source": [
    "A função `pixelParaTrinca` abaixo deve receber um valor de pixel (0-255) e retornar a trinca correspondente. Não se esqueça de passar o mapa de bases como argumento!"
   ]
  },
  {
   "cell_type": "code",
   "execution_count": 192,
   "metadata": {
    "collapsed": true
   },
   "outputs": [],
   "source": [
    "def pixelParaTrinca(pixel,mapa_bases):\n",
    "    # Input: \n",
    "    #    pixel : valor de pixel, (0-255) (int)\n",
    "    #    mapa_bases : mapa de bases\n",
    "    # Retorna: trinca (str) \n",
    "    return trinca"
   ]
  },
  {
   "cell_type": "markdown",
   "metadata": {},
   "source": [
    "<p style=\"font-size: 0.8em\"><span style=\"color:red\"><strong>Solução</strong></span> Para ver, selecione a área abaixo com o cursor.</p>\n",
    "<code style=\"color:white\">\n",
    "def pixelParaTrinca(pixel,mapa_bases):\n",
    "    pixel_comp = pixel//4\n",
    "    trinca = codificaTrinca(pixel_comp,mapa_bases)\n",
    "    return trinca\n",
    "</code>"
   ]
  },
  {
   "cell_type": "markdown",
   "metadata": {},
   "source": [
    "A função `trincaParaPixel` faz o trabalho inverso. A partir de uma trinca encontraremos o valor de seu pixel. Neste caso considere o valor de pixel mais alto como 252."
   ]
  },
  {
   "cell_type": "code",
   "execution_count": 223,
   "metadata": {
    "collapsed": true
   },
   "outputs": [],
   "source": [
    "def trincaParaPixel(trinca,mapa_bases):\n",
    "    # Input: \n",
    "    #    trinca : trinca de bases (str)\n",
    "    #    mapa_bases : mapa de bases\n",
    "    # Retorna: valor de pixel (0-252) (int) \n",
    "    return pixel"
   ]
  },
  {
   "cell_type": "markdown",
   "metadata": {},
   "source": [
    "<p style=\"font-size: 0.8em\"><span style=\"color:red\"><strong>Solução</strong></span> Para ver, selecione a área abaixo com o cursor.</p>\n",
    "<code style=\"color:white\">\n",
    "def trincaParaPixel(trinca,mapa_bases):\n",
    "    pixel_comp = decodificaTrinca(trinca,mapa_bases)\n",
    "    pixel = pixel_comp*4\n",
    "    return pixel\n",
    "</code>"
   ]
  },
  {
   "cell_type": "markdown",
   "metadata": {},
   "source": [
    "Parabéns! Você conseguiu resolver a primeira etapa do problema! Antes de prosseguir, teste seu código com alguns valores e veja se eles fazem sentido.\n",
    "Agora que já sabemos codificar e decodificar pixels individuais, como extender para a figura toda? Antes disso devemos nos perguntar: como representar uma figura? Uma forma simples é como uma matriz de pixels! Mas primeiro vamos entender o que é uma matriz."
   ]
  },
  {
   "cell_type": "markdown",
   "metadata": {},
   "source": [
    "---"
   ]
  },
  {
   "cell_type": "markdown",
   "metadata": {},
   "source": [
    "<span id=\"sec2\"></span>\n",
    "## 2. Vetores e Matrizes"
   ]
  },
  {
   "cell_type": "markdown",
   "metadata": {},
   "source": [
    "Na matemática um **vetor** (*array*) de $n$ dimensões é uma estrutura que armazena $n$ elementos:\n",
    "\n",
    "$$\n",
    "V=\n",
    "  \\begin{bmatrix}\n",
    "    a_1  \\\\\n",
    "    a_2  \\\\\n",
    "    \\vdots \\\\\n",
    "    a_n  \\\\\n",
    "  \\end{bmatrix}\n",
    "$$"
   ]
  },
  {
   "cell_type": "markdown",
   "metadata": {},
   "source": [
    "Uma **matriz** (*matrix*) é uma estrutura cuja dimensão é dada por um par de números $n \\times m$. Dizemos que uma matriz $n \\times m$ possui $n$ linhas e $m$ colunas. Você pode pensar em uma matriz como um vetor de vetores. Por outro lado você pode também pensar em um vetor como uma matriz de dimensão $n \\times 1$, ou seja, uma matriz de $n$ linhas e $1$ coluna. Por exemplo a matriz abaixo pode ser construída adicionando $m$ vetores de $n$ dimensões, um ao lado do outro:\n",
    "\n",
    "$$\n",
    "M=\n",
    "  \\begin{bmatrix}\n",
    "    a_{1,1} & a_{1,2} & \\cdots & a_{1,m}  \\\\\n",
    "    a_{2,1} & a_{2,2} & \\cdots & a_{2,m} \\\\\n",
    "    \\vdots  & \\vdots  & \\cdots & \\vdots \\\\\n",
    "    a_{n,1} & a_{n,2} & \\cdots & a_{n,m}  \\\\\n",
    "  \\end{bmatrix}\n",
    "$$\n"
   ]
  },
  {
   "cell_type": "markdown",
   "metadata": {},
   "source": [
    "Vetores e matrizes **não** são estruturas nativas em *Python*. Entretanto elas podem ser facilmente representadas por meio de listas. Lembre-se de que listas *Python* são indexadas a partir de 0, e não de 1 como nas matrizes acima! Representar um vetor como uma lista *Python* é trivial."
   ]
  },
  {
   "cell_type": "markdown",
   "metadata": {},
   "source": [
    "Considere o vetor $v$ abaixo:\n",
    "\n",
    "$$\n",
    "v=\n",
    "  \\begin{bmatrix}\n",
    "    12 \\\\\n",
    "    59 \\\\\n",
    "    43 \\\\\n",
    "    13 \\\\\n",
    "    8 \\\\\n",
    "  \\end{bmatrix}\n",
    "$$\n",
    "\n",
    "Qual a dimensão de $v$? Represente-o como uma lista e atribua à variável `v`."
   ]
  },
  {
   "cell_type": "code",
   "execution_count": null,
   "metadata": {
    "collapsed": true
   },
   "outputs": [],
   "source": [
    "v = # sua lista aqui"
   ]
  },
  {
   "cell_type": "markdown",
   "metadata": {},
   "source": [
    "Agora acesse o elemento $a_3$ de `v`."
   ]
  },
  {
   "cell_type": "markdown",
   "metadata": {},
   "source": [
    "> **Obs**: Por definição, um vetor somente armazena valores de **mesmo tipo**! Porém as listas *Python* não possuem esta restrição."
   ]
  },
  {
   "cell_type": "markdown",
   "metadata": {},
   "source": [
    "Para representar uma matriz criamos uma lista que contém listas. Cada uma das listas contidas representa um **vetor-linha**."
   ]
  },
  {
   "cell_type": "markdown",
   "metadata": {},
   "source": [
    "Considere a matriz *m* abaixo:\n",
    "\n",
    "$$\n",
    "m=\n",
    "  \\begin{bmatrix}\n",
    "    1 & 2 & 3 \\\\\n",
    "    4 & 5 & 6 \\\\\n",
    "    7 & 8 & 9 \\\\\n",
    "  \\end{bmatrix}\n",
    "$$\n",
    "\n",
    "Qual a dimensão de $m$? Represente-a como uma lista de vetores-linha e atribua à variável `m`."
   ]
  },
  {
   "cell_type": "code",
   "execution_count": null,
   "metadata": {
    "collapsed": true
   },
   "outputs": [],
   "source": [
    "m = # sua matriz aqui"
   ]
  },
  {
   "cell_type": "markdown",
   "metadata": {},
   "source": [
    "Agora acesse o elemento $a_{2,1}$ de `m`."
   ]
  },
  {
   "cell_type": "code",
   "execution_count": null,
   "metadata": {
    "collapsed": true
   },
   "outputs": [],
   "source": []
  },
  {
   "cell_type": "markdown",
   "metadata": {},
   "source": [
    "Acesse agora o elemento 8."
   ]
  },
  {
   "cell_type": "code",
   "execution_count": null,
   "metadata": {
    "collapsed": true
   },
   "outputs": [],
   "source": []
  },
  {
   "cell_type": "markdown",
   "metadata": {},
   "source": [
    "Ótimo! Agora que você já sabe o básico sobre matrizes, podemos continuar. \n",
    "\n",
    "**Dica.** Se quiser se desafiar, tente escrever funções que computam a soma de elementos nas colunas e nas linhas de uma matriz!"
   ]
  },
  {
   "cell_type": "markdown",
   "metadata": {},
   "source": [
    "---"
   ]
  },
  {
   "cell_type": "markdown",
   "metadata": {},
   "source": [
    "## 3. Imagem em uma matriz"
   ]
  },
  {
   "cell_type": "code",
   "execution_count": null,
   "metadata": {
    "collapsed": true
   },
   "outputs": [],
   "source": []
  },
  {
   "cell_type": "code",
   "execution_count": null,
   "metadata": {
    "collapsed": true
   },
   "outputs": [],
   "source": []
  },
  {
   "cell_type": "code",
   "execution_count": 227,
   "metadata": {},
   "outputs": [
    {
     "data": {
      "text/plain": [
       "32"
      ]
     },
     "execution_count": 227,
     "metadata": {},
     "output_type": "execute_result"
    }
   ],
   "source": [
    "trincaParaPixel('AGA',mapa_bases)"
   ]
  },
  {
   "cell_type": "code",
   "execution_count": 209,
   "metadata": {},
   "outputs": [
    {
     "data": {
      "text/plain": [
       "'TTG'"
      ]
     },
     "execution_count": 209,
     "metadata": {},
     "output_type": "execute_result"
    }
   ],
   "source": [
    "pixelParaTrinca(251,mapa_bases)"
   ]
  },
  {
   "cell_type": "code",
   "execution_count": null,
   "metadata": {
    "collapsed": true
   },
   "outputs": [],
   "source": [
    "def trincaParaPixel():"
   ]
  },
  {
   "cell_type": "code",
   "execution_count": 177,
   "metadata": {},
   "outputs": [
    {
     "data": {
      "text/plain": [
       "252"
      ]
     },
     "execution_count": 177,
     "metadata": {},
     "output_type": "execute_result"
    }
   ],
   "source": [
    "63*4"
   ]
  },
  {
   "cell_type": "code",
   "execution_count": 179,
   "metadata": {},
   "outputs": [
    {
     "data": {
      "text/plain": [
       "63"
      ]
     },
     "execution_count": 179,
     "metadata": {},
     "output_type": "execute_result"
    }
   ],
   "source": [
    "252//4"
   ]
  },
  {
   "cell_type": "markdown",
   "metadata": {},
   "source": [
    "---"
   ]
  },
  {
   "cell_type": "code",
   "execution_count": null,
   "metadata": {
    "collapsed": true
   },
   "outputs": [],
   "source": []
  },
  {
   "cell_type": "code",
   "execution_count": 130,
   "metadata": {
    "collapsed": true
   },
   "outputs": [],
   "source": [
    "mapa_bases = {\n",
    "    'A':0,\n",
    "    'C':1,\n",
    "    'G':2,\n",
    "    'T':3,\n",
    "    0:'A',\n",
    "    1:'C',\n",
    "    2:'G',\n",
    "    3:'T'\n",
    "}"
   ]
  },
  {
   "cell_type": "code",
   "execution_count": 132,
   "metadata": {},
   "outputs": [
    {
     "data": {
      "text/plain": [
       "'C'"
      ]
     },
     "execution_count": 132,
     "metadata": {},
     "output_type": "execute_result"
    }
   ],
   "source": [
    "mapa_bases[1]"
   ]
  },
  {
   "cell_type": "code",
   "execution_count": null,
   "metadata": {
    "collapsed": true
   },
   "outputs": [],
   "source": [
    "def converte_4_10(numBase4):\n",
    "    \n",
    "    return numDecimal"
   ]
  },
  {
   "cell_type": "code",
   "execution_count": 60,
   "metadata": {
    "collapsed": true
   },
   "outputs": [],
   "source": [
    "def conv(numDecimal):\n",
    "    if numDecimal > 63:\n",
    "        return -1\n",
    "    else:\n",
    "        numBase4 = ''\n",
    "        n=numDecimal\n",
    "        resto=-1\n",
    "        while(resto!=0):\n",
    "            resto = n%4\n",
    "            n=n//4\n",
    "            numBase4 += str(resto)\n",
    "    print(numBase4)\n",
    "    return ''.join(list(reversed(n)))"
   ]
  },
  {
   "cell_type": "code",
   "execution_count": 62,
   "metadata": {},
   "outputs": [
    {
     "name": "stdout",
     "output_type": "stream",
     "text": [
      "20\n"
     ]
    },
    {
     "ename": "TypeError",
     "evalue": "'int' object is not reversible",
     "output_type": "error",
     "traceback": [
      "\u001b[0;31m---------------------------------------------------------------------------\u001b[0m",
      "\u001b[0;31mTypeError\u001b[0m                                 Traceback (most recent call last)",
      "\u001b[0;32m<ipython-input-62-c64b38bcbb1e>\u001b[0m in \u001b[0;36m<module>\u001b[0;34m()\u001b[0m\n\u001b[0;32m----> 1\u001b[0;31m \u001b[0mconv\u001b[0m\u001b[0;34m(\u001b[0m\u001b[0;36m50\u001b[0m\u001b[0;34m)\u001b[0m\u001b[0;34m\u001b[0m\u001b[0m\n\u001b[0m",
      "\u001b[0;32m<ipython-input-60-76d1d7af8c31>\u001b[0m in \u001b[0;36mconv\u001b[0;34m(numDecimal)\u001b[0m\n\u001b[1;32m     11\u001b[0m             \u001b[0mnumBase4\u001b[0m \u001b[0;34m+=\u001b[0m \u001b[0mstr\u001b[0m\u001b[0;34m(\u001b[0m\u001b[0mresto\u001b[0m\u001b[0;34m)\u001b[0m\u001b[0;34m\u001b[0m\u001b[0m\n\u001b[1;32m     12\u001b[0m     \u001b[0mprint\u001b[0m\u001b[0;34m(\u001b[0m\u001b[0mnumBase4\u001b[0m\u001b[0;34m)\u001b[0m\u001b[0;34m\u001b[0m\u001b[0m\n\u001b[0;32m---> 13\u001b[0;31m     \u001b[0;32mreturn\u001b[0m \u001b[0;34m''\u001b[0m\u001b[0;34m.\u001b[0m\u001b[0mjoin\u001b[0m\u001b[0;34m(\u001b[0m\u001b[0mlist\u001b[0m\u001b[0;34m(\u001b[0m\u001b[0mreversed\u001b[0m\u001b[0;34m(\u001b[0m\u001b[0mn\u001b[0m\u001b[0;34m)\u001b[0m\u001b[0;34m)\u001b[0m\u001b[0;34m)\u001b[0m\u001b[0;34m\u001b[0m\u001b[0m\n\u001b[0m",
      "\u001b[0;31mTypeError\u001b[0m: 'int' object is not reversible"
     ]
    }
   ],
   "source": [
    "conv(50)"
   ]
  },
  {
   "cell_type": "markdown",
   "metadata": {},
   "source": [
    "<span style=\"color:white\">hello</span>"
   ]
  },
  {
   "cell_type": "code",
   "execution_count": 48,
   "metadata": {},
   "outputs": [
    {
     "data": {
      "text/plain": [
       "'331'"
      ]
     },
     "execution_count": 48,
     "metadata": {},
     "output_type": "execute_result"
    }
   ],
   "source": [
    "\n",
    "converte_10_4(61)"
   ]
  },
  {
   "cell_type": "code",
   "execution_count": 1,
   "metadata": {},
   "outputs": [
    {
     "data": {
      "text/plain": [
       "64"
      ]
     },
     "execution_count": 1,
     "metadata": {},
     "output_type": "execute_result"
    }
   ],
   "source": [
    "4*4*4"
   ]
  },
  {
   "cell_type": "markdown",
   "metadata": {},
   "source": [
    "## 1. Lala"
   ]
  },
  {
   "cell_type": "code",
   "execution_count": null,
   "metadata": {
    "collapsed": true
   },
   "outputs": [],
   "source": []
  },
  {
   "cell_type": "code",
   "execution_count": null,
   "metadata": {
    "collapsed": true
   },
   "outputs": [],
   "source": []
  },
  {
   "cell_type": "code",
   "execution_count": null,
   "metadata": {
    "collapsed": true
   },
   "outputs": [],
   "source": []
  },
  {
   "cell_type": "markdown",
   "metadata": {},
   "source": [
    "O material apresentado no minicurso é quase suficiente para que você consiga solucionar este desafio. Lembre-se de, antes de começar a programar, tentar subdividir seu problema em subproblemas mais simples. Caso fique preso em alguma etapa, lembre-se: o Google é seu amigo! Muitas dúvidas relativas a programação em *Python* já foram respondidas por alguém (ajudará mais se você pesquisar em inglês) em comunidades como o [*Stack Overflow*](https://stackoverflow.com/)."
   ]
  },
  {
   "cell_type": "markdown",
   "metadata": {},
   "source": [
    "Como o tópico sobre leitura e plotagem de arquivos de imagem não foi abordada no curso, ficam aqui duas dicas:\n",
    "1. Para **ler** uma imagem de um arquivo como um array de pixels você pode usar a função [`imread`](https://docs.scipy.org/doc/scipy/reference/generated/scipy.misc.imread.html#scipy.misc.imread), que deve ser importada do módulo `scipy.misc` da biblioteca [*Scipy*](https://www.scipy.org/). \n",
    "\n",
    "2. Para **desenhar** a imagem você pode utilizar a função [`imshow`](https://matplotlib.org/api/pyplot_api.html#matplotlib.pyplot.imshow), que deve ser importada do módulo `matplotlib.pyplot` da biblioteca [*Matplotlib*](http://matplotlib.org/)."
   ]
  },
  {
   "cell_type": "code",
   "execution_count": null,
   "metadata": {
    "collapsed": true
   },
   "outputs": [],
   "source": []
  },
  {
   "cell_type": "code",
   "execution_count": null,
   "metadata": {
    "collapsed": true
   },
   "outputs": [],
   "source": []
  },
  {
   "cell_type": "code",
   "execution_count": null,
   "metadata": {
    "collapsed": true
   },
   "outputs": [],
   "source": []
  },
  {
   "cell_type": "code",
   "execution_count": null,
   "metadata": {
    "collapsed": true
   },
   "outputs": [],
   "source": []
  },
  {
   "cell_type": "code",
   "execution_count": null,
   "metadata": {
    "collapsed": true
   },
   "outputs": [],
   "source": []
  },
  {
   "cell_type": "code",
   "execution_count": null,
   "metadata": {
    "collapsed": true
   },
   "outputs": [],
   "source": []
  },
  {
   "cell_type": "code",
   "execution_count": null,
   "metadata": {
    "collapsed": true
   },
   "outputs": [],
   "source": []
  }
 ],
 "metadata": {
  "kernelspec": {
   "display_name": "Python 3",
   "language": "python",
   "name": "python3"
  },
  "language_info": {
   "codemirror_mode": {
    "name": "ipython",
    "version": 3
   },
   "file_extension": ".py",
   "mimetype": "text/x-python",
   "name": "python",
   "nbconvert_exporter": "python",
   "pygments_lexer": "ipython3",
   "version": "3.6.3"
  }
 },
 "nbformat": 4,
 "nbformat_minor": 2
}
