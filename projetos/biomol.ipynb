{
 "cells": [
  {
   "cell_type": "markdown",
   "metadata": {},
   "source": [
    "## <center>Introdução à Lógica de Programação</center>\n",
    "###  <center>Um curso prático para estudantes das Ciências da Vida</center>\n",
    "---\n",
    "## <center>Miniprojeto 2. O exercício de BioMol</center>\n",
    "##### <center>Instrutor: <a href=\"https://pedrosiracusa.github.io\" target=\"_blank\">Pedro C. de Siracusa</a></center>"
   ]
  },
  {
   "cell_type": "markdown",
   "metadata": {},
   "source": [
    "#### Enunciado\n",
    "Você está passando por um semestre difícil! Está matriculado(a) em 6 disciplinas e ainda participa de várias atividades acadêmicas complementares, dentre elas seu projeto de IC. Justamente em uma semana em que você está com a agenda apertada seu professor de Biologia Molecular passou um exercício trabalhoso, que consiste em encontrar a sequência de RNA resultante da transcrição do gene A e depois os aminoácidos resultantes da tradução do RNA. Veja uma ilustração deste processo.\n"
   ]
  },
  {
   "cell_type": "markdown",
   "metadata": {},
   "source": [
    "<img src=\"img/biomol.jpg\" >"
   ]
  },
  {
   "cell_type": "markdown",
   "metadata": {},
   "source": [
    "O problema é que o gene é razoavelmente longo, considerando que se trata de um exercício (pedagogicamente duvidoso, por sinal). Eis a sequência da fita-molde no sentido 3'->5' do gene A:"
   ]
  },
  {
   "cell_type": "markdown",
   "metadata": {},
   "source": [
    "```\n",
    "GATCCTCCATATACAACGGTATCTCCACCTCAGGTTTAGATCTCAACAACGGAACCATTGCCGACATGAGACAGTTAGGTATCGTCGAGAGTTACAAGCTAAAACGAGCAGTAGTCAGCTCTGCATCTGAAGCCGCTGAAGTTCTACTAAGGGTGGATAACATCATCCGTGCAAGACCAAGAACCGCCAATAGACAACATATGTAACATATTTAGGATATACCTCGAAAATAATAAACCGCCACACTGTCATTATTATAATTAGAAACAGAACGCAAAAATTATCCACTATATAATTCAAAGACGCGAAAAAAAAAGAACAACGCGTCATAGAACTTTTGGCAATTCGCGTCACAAATAAATTTTGGCAACTTATGTTTCCTCTTCGAGCAGTACTCGAGCCCTGTCTCAAGAATGTAATAATACCCATCGTAGGTATGGTTAAAGATAGCATCTCCACAACCTCAAAGCTCCTTGCCGAGAGTCGCCCTCCTTTGTCGAGTAATTTTCACTTTTCATATGAGAACTTATTTTCTTATTCTTTACTCTCACATCCTGTAGTGATTGACACTGCAACAGCCACCATCACTAGAAGAACAGAACAATTACTTAATAGAAAAATTATATCTTCCTCGAAACGATTTCCTGCTTCCAACATCTACGTATATCAAGAAGCATTCACTTACCATGACACAGCTTCAGATTTCATTATTGCTGACAGCTACTATATCACTACTCCATCTAGTAGTGGCCACGCCCTATGAGGCATATCCTATCGGAAAACAATACCCCCCAGTGGCAAGAGTCAATGAATCGTTTACATTTCAAATTTCCAATGATACCTATAAATCGTCTGTAGACAAGACAGCTCAAATAACATACAATTGCTTCGACTTACCGAGCTGGCTTTCGTTTGACTCTAGTTCTAGAACGTTCTCAGGTGAACCTTCTTCTGACTTACTATCTGATGCGAACACCACGTTGTATTTCAATGTAATACTCGAGGGTACGGACTCTGCCGACAGCACGTCTTTGAACAATACATACCAATTTGTTGTTACAAACCGTCCATCCATCTCGCTATCGTCAGATTTCAATCTATTGGCGTTGTTAAAAAACTATGGTTATACTAACGGCAAAAACGCTCTGAAACTAGATCCTAATGAAGTCTTCAACGTGACTTTTGACCGTTCAATGTTCACTAACGAAGAATCCATTGTGTCGTATTACGGACGTTCTCAGTTGTATAATGCGCCGTTACCCAATTGGCTGTTCTTCGATTCTGGCGAGTTGAAGTTTACTGGGACGGCACCGGTGATAAACTCGGCGATTGCTCCAGAAACAAGCTACAGTTTTGTCATCATCGCTACAGACATTGAAGGATTTTCTGCCGTTGAGGTAGAATTCGAATTAGTCATCGGGGCTCACCAGTTAACTACCTCTATTCAAAATAGTTTGATAATCAACGTTACTGACACAGGTAACGTTTCATATGACTTACCTCTAAACTATGTTTATCTCGATGACGATCCTATTTCTTCTGATAAATTGGGTTCTATAAACTTATTGGATGCTCCAGACTGGGTGGCATTAGATAATGCTACCATTTCCGGGTCTGTCCCAGATGAATTACTCGGTAAGAACTCCAATCCTGCCAATTTTTCTGTGTCCATTTATGATACTTATGGTGATGTGATTTATTTCAACTTCGAAGTTGTCTCCACAACGGATTTGTTTGCCATTAGTTCTCTTCCCAATATTAACGCTACAAGGGGTGAATGGTTCTCCTACTATTTTTTGCCTTCTCAGTTTACAGACTACGTGAATACAAACGTTTCATTAGAGTTTACTAATTCAAGCCAAGACCATGACTGGGTGAAATTCCAATCATCTAATTTAACATTAGCTGGAGAAGTGCCCAAGAATTTCGACAAGCTTTCATTAGGTTTGAAAGCGAACCAAGGTTCACAATCTCAAGAGCTATATTTTAACATCATTGGCATGGATTCAAAGATAACTCACTCAAACCACAGTGCGAATGCAACGTCCACAAGAAGTTCTCACCACTCCACCTCAACAAGTTCTTACACATCTTCTACTTACACTGCAAAAATTTCTTCTACCTCCGCTGCTGCTACTTCTTCTGCTCCAGCAGCGCTGCCAGCAGCCAATAAAACTTCATCTCACAATAAAAAAGCAGTAGCAATTGCGTGCGGTGTTGCTATCCCATTAGGCGTTATCCTAGTAGCTCTCATTTGCTTCCTAATATTCTGGAGACGCAGAAGGGAAAATCCAGACGATGAAAACTTACCGCATGCTATTAGTGGACCTGATTTGAATAATCCTGCAAATAAACCAAATCAAGAAAACGCTACACCTTTGAACAACCCCTTTGATGATGATGCTTCCTCGTACGATGATACTTCAATAGCAAGAAGATTGGCTGCTTTGAACACTTTGAAATTGGATAACCACTCTGCCACTGAATCTGATATTTCCAGCGTGGATGAAAAGAGAGATTCTCTATCAGGTATGAATACATACAATGATCAGTTCCAATCCCAAAGTAAAGAAGAATTATTAGCAAAACCCCCAGTACAGCCTCCAGAGAGCCCGTTCTTTGACCCACAGAATAGGTCTTCTTCTGTGTATATGGATAGTGAACCAGCAGTAAATAAATCCTGGCGATATACTGGCAACCTGTCACCAGTCTCTGATATTGTCAGAGACAGTTACGGATCACAAAAAACTGTTGATACAGAAAAACTTTTCGATTTAGAAGCACCAGAGAAGGAAAAACGTACGTCAAGGGATGTCACTATGTCTTCACTGGACCCTTGGAACAGCAATATTAGCCCTTCTCCCGTAAGAAAATCAGTAACACCATCACCATATAACGTAACGAAGCATCGTAACCGCCACTTACAAAATATTCAAGACTCTCAAAGCGGTAAAAACGGAATCACTCCCACAACAATGTCAACTTCATCTTCTGACGATTTTGTTCCGGTTAAAGATGGTGAAAATTTTTGCTGGGTCCACT\n",
    "```\n"
   ]
  },
  {
   "cell_type": "markdown",
   "metadata": {},
   "source": [
    "A avaliação do exercício contará uma porcentagem alta da nota final, e seu professor já avisou que descontará pontos por cada aminoácido errado na sua resposta. Seus colegas de classe pretendem tirar a noite de sábado para resolver o exercício, já que é o único horário que têm disponível. Mas você tinha planos para ir a uma festa. Como resolver este exercício extremamente repetitivo de forma rápida e ainda garantir uma boa nota e a sua festa?"
   ]
  },
  {
   "cell_type": "markdown",
   "metadata": {},
   "source": [
    "#### Desenvolvimento"
   ]
  },
  {
   "cell_type": "markdown",
   "metadata": {},
   "source": [
    "Vamos dividir seu problema em dois subproblemas:\n",
    "\n",
    "1. Fazer a transcrição (DNA -> RNAm)\n",
    "2. Fazer a tradução (RNAm -> aminoácidos)"
   ]
  },
  {
   "cell_type": "markdown",
   "metadata": {},
   "source": [
    "Que tal escrever uma função para realizar cada um dos subproblemas individualmente? Dessa forma, além de você poder compartilhar seu código e ajudar seus colegas, ainda mantém seu código mais organizado. A função `codigoGenetico` fornecida abaixo será util para converter trincas de bases nos aminoácidos. Dica: Para facilitar seu trabalho, construa também uma função `complementoBase`, retorna a base complementar no processo de transcrição."
   ]
  },
  {
   "cell_type": "code",
   "execution_count": 17,
   "metadata": {},
   "outputs": [],
   "source": [
    "def codigoGenetico(trinca):\n",
    "    if trinca in ['GCA','GCC','GCG','GCU']:\n",
    "        return 'Ala'\n",
    "    elif trinca in ['AGA','AGG','CGA','CGC','CGG','CGU']:\n",
    "        return 'Arg'\n",
    "    elif trinca in ['GAC','GAU']:\n",
    "        return 'Asp'\n",
    "    elif trinca in ['AAC','AAU']:\n",
    "        return 'Asn'\n",
    "    elif trinca in ['UGC','UGU']:\n",
    "        return 'Cys'\n",
    "    elif trinca in ['GAA','GAG']:\n",
    "        return 'Glu'\n",
    "    elif trinca in ['CAA','CAG']:\n",
    "        return 'Gln'\n",
    "    elif trinca in ['GGA','GGC','GGG','GGU']:\n",
    "        return 'Gly'\n",
    "    elif trinca in ['CAC','CAU']:\n",
    "        return 'His'\n",
    "    elif trinca in ['AUA','AUC','AUU']:\n",
    "        return 'Ile'\n",
    "    elif trinca in ['UUA','UUG','CUA','CUC','CUG','CUU']:\n",
    "        return 'Leu'\n",
    "    elif trinca in ['AAA','AAG']:\n",
    "        return 'Lys'\n",
    "    elif trinca in ['AUG']:\n",
    "        return 'Met'\n",
    "    elif trinca in ['UUC','UUU']:\n",
    "        return 'Phe'\n",
    "    elif trinca in ['CCA','CCC','CCG','CCU']:\n",
    "        return 'Pro'\n",
    "    elif trinca in ['AGC','AGU','UCA','UCC','UCG','UCU']:\n",
    "        return 'Ser'\n",
    "    elif trinca in ['ACA','ACC','ACG','ACU']:\n",
    "        return 'Thr'\n",
    "    elif trinca in ['UGG']:\n",
    "        return 'Trp'\n",
    "    elif trinca in ['UAC','UAU']:\n",
    "        return 'Tyr'\n",
    "    elif trinca in ['GUA','GUC','GUG','GUU']:\n",
    "        return 'Val'\n",
    "    elif trinca in ['UAA','UAG','UGA']:\n",
    "        return 'stop'\n",
    "    else:\n",
    "        return None"
   ]
  },
  {
   "cell_type": "code",
   "execution_count": 18,
   "metadata": {},
   "outputs": [],
   "source": [
    "def complementoBase(base):\n",
    "    # Seu código aqui\n",
    "    # Use o mapeamento A->U, T->A, G->C, C->G\n",
    "    return"
   ]
  },
  {
   "cell_type": "markdown",
   "metadata": {},
   "source": [
    "Agora, nas células abaixo, escreva suas funções `transcricao` e `traducao`. A função de transcrição deve receber como argumento uma sequência contida na fita-molde de DNA, e retornar uma sequência de RNAm. A função de tradução deve percorrer cada códon (trinca de bases) da fita de RNAm e retornar a sequência de aminoácidos resultantes. Tente retornar cada sequência de aminoácidos decodificada como um item de uma lista."
   ]
  },
  {
   "cell_type": "code",
   "execution_count": null,
   "metadata": {},
   "outputs": [],
   "source": [
    "def transcricao():\n",
    "    return "
   ]
  },
  {
   "cell_type": "code",
   "execution_count": null,
   "metadata": {},
   "outputs": [],
   "source": [
    "def traducao():\n",
    "    return "
   ]
  }
 ],
 "metadata": {
  "kernelspec": {
   "display_name": "Python 3",
   "language": "python",
   "name": "python3"
  },
  "language_info": {
   "codemirror_mode": {
    "name": "ipython",
    "version": 3
   },
   "file_extension": ".py",
   "mimetype": "text/x-python",
   "name": "python",
   "nbconvert_exporter": "python",
   "pygments_lexer": "ipython3",
   "version": "3.6.5"
  }
 },
 "nbformat": 4,
 "nbformat_minor": 2
}
