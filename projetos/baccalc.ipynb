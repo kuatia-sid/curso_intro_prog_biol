{
 "cells": [
  {
   "cell_type": "markdown",
   "metadata": {},
   "source": [
    "## <center>Introdução à Lógica de Programação</center>\n",
    "###  <center>Um curso prático para estudantes das Ciências da Vida</center>\n",
    "---\n",
    "## <center>Miniprojeto 1. A Calculadora Bacteriana</center>\n",
    "##### <center>Instrutor: <a href=\"https://pedrosiracusa.github.io\" target=\"_blank\">Pedro C. de Siracusa</a></center>"
   ]
  },
  {
   "cell_type": "markdown",
   "metadata": {},
   "source": [
    "#### Enunciado\n",
    "Você trabalha no laboratório de Microbiologia e está cultivando uma colônia de bactérias para seu experimento em um meio rico em nutrientes. Você sabe que o tempo médio que estas bactérias levam para se reproduzir por fissão binária - ou *tempo de geração* - é de 20 minutos. Como codificar um **modelo** para estimar o tamanho desta população no meio como resultado do tempo decorrido desde sua colonização? Por simplicidade, vamos considerar aqui que o crescimento é **exponencial** durante todo o processo."
   ]
  },
  {
   "cell_type": "markdown",
   "metadata": {},
   "source": [
    "<img src=\"img/bacteria.jpg\" >"
   ]
  },
  {
   "cell_type": "markdown",
   "metadata": {},
   "source": [
    "#### Desenvolvimento\n",
    "\n",
    "Esta calculadora bacteriana funcionará com base em um modelo matemático bastante simples criado para o estudo de crescimento em populações biológicas: o **modelo de crescimento exponencial**\n",
    "\n",
    "$$ N(t)=N_i\\cdot 2^{ \\frac{t}{g}}$$\n",
    "\n",
    "em que:\n",
    "* $N(t)$ é o tamanho populacional no tempo $t$;\n",
    "* $N_i$ é o tamanho da população colonizadora;\n",
    "* $t$ é o tempo decorrido desde a colonização;\n",
    "* $g$ é o tempo de geração da bactéria."
   ]
  },
  {
   "cell_type": "markdown",
   "metadata": {},
   "source": [
    "---"
   ]
  },
  {
   "cell_type": "markdown",
   "metadata": {},
   "source": [
    "##### Etapa 1"
   ]
  },
  {
   "cell_type": "markdown",
   "metadata": {},
   "source": [
    "Precisamos representar este modelo em código.\n",
    "Crie, na célula abaixo, as variáveis $N_i$, $t$ e $g$, e atribua seus respectivos valores."
   ]
  },
  {
   "cell_type": "code",
   "execution_count": null,
   "metadata": {},
   "outputs": [],
   "source": [
    "# Variáveis\n"
   ]
  },
  {
   "cell_type": "markdown",
   "metadata": {},
   "source": [
    "Agora escreva a expressão para o cálculo da população bacteriana na célula abaixo."
   ]
  },
  {
   "cell_type": "code",
   "execution_count": 2,
   "metadata": {},
   "outputs": [],
   "source": [
    "# Expressão\n"
   ]
  },
  {
   "cell_type": "markdown",
   "metadata": {},
   "source": [
    "Você deve ter percebido que o uso de variáveis torna seu modelo mais compreensivel e de certa forma reutilizável, bastando modificar os valores associados às variáveis para computar novos resultados. Experimente alterar os valores das variáveis $t$, $N_i$ e $g$, e observe as respostas do seu modelo. Elas fazem sentido?"
   ]
  },
  {
   "cell_type": "markdown",
   "metadata": {},
   "source": [
    "---"
   ]
  },
  {
   "cell_type": "markdown",
   "metadata": {},
   "source": [
    "##### Etapa 2"
   ]
  },
  {
   "cell_type": "markdown",
   "metadata": {},
   "source": [
    "A primeira versão da nossa calculadora bacteriana ficou até interessante, mas no fundo ela não ficou tão fácil de ser reutilizada. Isso porque sempre que queremos calcular o tamanho da população com parâmetros diferentes temos que primeiro redefinir as variáveis e depois fazer o cálculo usando a expressão do crescimento exponencial, tudo manualmente. \n",
    "Seria ótimo podermos **abstrair** estes passos intermediários, de forma que o usuário precisasse apenas informar os valores desejados para os parâmetros, sem precisar se preocupar com a expressão do crescimento em si.\n",
    "Vamos então **encapsular** nossa calculadora em uma **função**."
   ]
  },
  {
   "cell_type": "markdown",
   "metadata": {},
   "source": [
    "Escreva a função `tamanhoPopulacional`, que recebe como *inputs* o \"tempo decorrido\", o \"tamanho da população colonizadora\", \"tempo de geração da bactéria\"."
   ]
  },
  {
   "cell_type": "code",
   "execution_count": null,
   "metadata": {},
   "outputs": [],
   "source": []
  },
  {
   "cell_type": "markdown",
   "metadata": {},
   "source": [
    "Agora teste sua função. Você consegue obter os mesmos resultados da etapa anterior?"
   ]
  },
  {
   "cell_type": "code",
   "execution_count": null,
   "metadata": {},
   "outputs": [],
   "source": []
  },
  {
   "cell_type": "markdown",
   "metadata": {},
   "source": [
    "---"
   ]
  },
  {
   "cell_type": "markdown",
   "metadata": {},
   "source": [
    "##### Etapa 3"
   ]
  },
  {
   "cell_type": "markdown",
   "metadata": {},
   "source": [
    "Com uma função fica bem mais fácil usar nossa calculadora! Mas ainda temos um problema: bactérias diferentes têm taxas diferentes de reprodução (e portanto, tempos de geração diferentes). A tabela abaixo relaciona algumas espécies com seus tempos de geração característicos."
   ]
  },
  {
   "cell_type": "markdown",
   "metadata": {},
   "source": [
    "|Código| Espécie | Tempo de geração (min) |\n",
    "|--|--|--|\n",
    "|ecoli| *Escherichia coli* | 20 |\n",
    "|bsubt| *Bacillus subtilis* | 28 |\n",
    "|saure| *Staphylococcus aureus* | 30 | \n",
    "|paeru| *Pseudomonas aeruginosa* | 35 |\n",
    "|mtube| *Mycobacterium tuberculosis* | 800 |\n",
    "\n",
    "**Fonte:** Perry, J.J.; Staley, J.T. Microbiology: Dynamics & Diversity. Washington: College Publishing, 1997."
   ]
  },
  {
   "cell_type": "markdown",
   "metadata": {},
   "source": [
    "Sendo assim, se pudéssemos considerar a espécie da bactéria na nossa calculadora obteríamos resultados bem mais precisos!\n",
    "Reescreva a função `tamanhoPopulacional`, agora adicionando como input o código da bactéria."
   ]
  },
  {
   "cell_type": "code",
   "execution_count": null,
   "metadata": {},
   "outputs": [],
   "source": []
  },
  {
   "cell_type": "markdown",
   "metadata": {},
   "source": [
    "Agora teste sua função para cada tipo de bactéria, e veja se os resultados são razoáveis."
   ]
  },
  {
   "cell_type": "code",
   "execution_count": null,
   "metadata": {},
   "outputs": [],
   "source": []
  },
  {
   "cell_type": "markdown",
   "metadata": {},
   "source": [
    "---"
   ]
  },
  {
   "cell_type": "markdown",
   "metadata": {},
   "source": [
    "##### Etapa 4"
   ]
  },
  {
   "cell_type": "markdown",
   "metadata": {},
   "source": [
    "Seria ótimo conseguirmos plotar o crescimento bacteriano ao longo do tempo!\n",
    "Construa a função `geraPlot`."
   ]
  },
  {
   "cell_type": "code",
   "execution_count": 23,
   "metadata": {},
   "outputs": [],
   "source": [
    "import matplotlib.pyplot as plt\n",
    "\n",
    "%matplotlib inline"
   ]
  },
  {
   "cell_type": "code",
   "execution_count": null,
   "metadata": {},
   "outputs": [],
   "source": [
    "def geraPlot( tempoFinal ):\n",
    "    xs = # seu código aqui\n",
    "    ys = # seu código aqui\n",
    "    \n",
    "    plt.plot(xs,ys)\n",
    "    plt.xlabel(\"Tempo decorrido\")\n",
    "    plt.ylabel(\"Tamanho populacional\")"
   ]
  },
  {
   "cell_type": "code",
   "execution_count": 53,
   "metadata": {},
   "outputs": [
    {
     "data": {
      "image/png": "[encoded data removed]",
      "text/plain": [
       "<Figure size 432x288 with 1 Axes>"
      ]
     },
     "metadata": {},
     "output_type": "display_data"
    }
   ],
   "source": [
    "def geraPlot( tempoFinal ):\n",
    "    xs = list(range(0,tempoFinal+1,20))\n",
    "    ys = [ tamanhoPopulacional(t,1,20) for t in xs ]\n",
    "    \n",
    "    plt.plot(xs,ys)\n",
    "    \n",
    "    ys = [ tamanhoPopulacional(t,1,28) for t in xs ]\n",
    "    plt.plot(xs,ys)\n",
    "    \n",
    "    ys = [ tamanhoPopulacional(t,1,30) for t in xs ]\n",
    "    plt.plot(xs,ys)\n",
    "    \n",
    "    ys = [ tamanhoPopulacional(t,1,35) for t in xs ]\n",
    "    plt.plot(xs,ys)\n",
    "    \n",
    "    plt.xlabel(\"Tempo decorrido\")\n",
    "    plt.ylabel(\"Tamanho populacional\")\n",
    "    \n",
    "geraPlot(100)"
   ]
  },
  {
   "cell_type": "code",
   "execution_count": 7,
   "metadata": {},
   "outputs": [],
   "source": [
    "def tamanhoPopulacional(t,n0,g=20):\n",
    "    return n0*2**(t/g)"
   ]
  },
  {
   "cell_type": "code",
   "execution_count": 28,
   "metadata": {},
   "outputs": [],
   "source": [
    "xs = [0,20,40,60,80,100,120,140,160,180,200]"
   ]
  },
  {
   "cell_type": "code",
   "execution_count": 35,
   "metadata": {},
   "outputs": [],
   "source": [
    "def calcula_ys(xs,f):\n",
    "    res = []\n",
    "    for x in xs:\n",
    "        res = res + [f(x,2)]\n",
    "    return res\n",
    "\n",
    "ys = calcula_ys(xs, tamanhoPopulacional)"
   ]
  },
  {
   "cell_type": "code",
   "execution_count": 36,
   "metadata": {},
   "outputs": [
    {
     "data": {
      "text/plain": [
       "Text(0,0.5,'Tamanho Populacional')"
      ]
     },
     "execution_count": 36,
     "metadata": {},
     "output_type": "execute_result"
    },
    {
     "data": {
      "image/png": "[encoded data removed]",
      "text/plain": [
       "<Figure size 432x288 with 1 Axes>"
      ]
     },
     "metadata": {},
     "output_type": "display_data"
    }
   ],
   "source": [
    "plt.plot(xs,ys)\n",
    "plt.xlabel(\"Tempo decorrido\")\n",
    "plt.ylabel(\"Tamanho Populacional\")"
   ]
  }
 ],
 "metadata": {
  "kernelspec": {
   "display_name": "Python [default]",
   "language": "python",
   "name": "python3"
  },
  "language_info": {
   "codemirror_mode": {
    "name": "ipython",
    "version": 3
   },
   "file_extension": ".py",
   "mimetype": "text/x-python",
   "name": "python",
   "nbconvert_exporter": "python",
   "pygments_lexer": "ipython3",
   "version": "3.6.6"
  }
 },
 "nbformat": 4,
 "nbformat_minor": 2
}
